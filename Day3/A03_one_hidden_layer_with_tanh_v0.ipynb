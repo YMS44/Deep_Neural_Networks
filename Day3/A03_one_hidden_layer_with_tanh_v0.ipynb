{
 "cells": [
  {
   "cell_type": "code",
   "execution_count": 1,
   "metadata": {
    "id": "kFZRpLpK02pB",
    "tags": []
   },
   "outputs": [],
   "source": [
    "#!/usr/bin/env python\n",
    "# -*- coding: utf-8 -*-"
   ]
  },
  {
   "cell_type": "markdown",
   "metadata": {},
   "source": [
    "Your Name and PRN:\n",
    "- Name : ______________________\n",
    "- PRN  : ______________________\n",
    "- Date : ______________________"
   ]
  },
  {
   "cell_type": "markdown",
   "metadata": {
    "id": "deSnZmVy02pF",
    "tags": []
   },
   "source": [
    "# Image Processing with Neural Network\n",
    "\n",
    "## Assignment: A03\n",
    "### Take Neural Network implementation with:\n",
    "- One hidden layer \n",
    "- ${Tanh}$ activation function\n",
    "\n",
    "\n",
    "### Assignment - Answer all Questions\n",
    "- **Q1**: Is this model more accurate compared to previous model?\n",
    "- **Q2**: Prepare table by changing number of neurons in hidden layer, learning rate and observe change in results. Also comment on your results.\n",
    "\n",
    "|#|Dimension of hidden layer|Learning rate|Training Accuracy|Test Accuracy|Comment|\n",
    "|:-:|:-:|:-:|:-:|:-:|:--|\n",
    "|1|4|0.1|0.97|0.96|Base case||1|4|0.1|0.97|0.96|Base case|\n",
    "|2|1|1|???|???|???|\n",
    "|...|...|...|...|...|...|\n",
    "|n|...|...|...|...|...|\n",
    "\n",
    "- **Q3**: What lines will you change to convert it into multi-class prediction model?\n",
    "- **Q4**: How many epochs are sufficient?"
   ]
  },
  {
   "cell_type": "code",
   "execution_count": 2,
   "metadata": {
    "id": "rt0pfyeA02pK",
    "tags": []
   },
   "outputs": [],
   "source": [
    "###-----------------\n",
    "### Import Libraries\n",
    "###-----------------\n",
    "\n",
    "import os\n",
    "import numpy as np\n",
    "import pandas as pd\n",
    "import matplotlib.pyplot as plt\n",
    "\n",
    "from collections.abc import Callable\n",
    "from typing import Literal\n",
    "\n",
    "from sklearn import datasets\n",
    "from sklearn.model_selection import train_test_split\n",
    "from sklearn.metrics import accuracy_score, confusion_matrix, classification_report, ConfusionMatrixDisplay\n",
    "\n",
    "%matplotlib inline"
   ]
  },
  {
   "cell_type": "code",
   "execution_count": 3,
   "metadata": {
    "id": "__T9cczP02pL",
    "tags": []
   },
   "outputs": [],
   "source": [
    "###-----------------------\n",
    "### Basic hyper-parameters\n",
    "###-----------------------\n",
    "\n",
    "inpDir = '../input' # set input path as per your system\n",
    "outDir = '../output' # set output path as per your system\n",
    "\n",
    "RANDOM_STATE = 24 # REMEMBER: to remove at the time of promotion to production\n",
    "np.random.seed(RANDOM_STATE) # Set Random Seed for reproducible  results\n",
    "\n",
    "EPOCHS = 20001 # number of epochs\n",
    "ALPHA = 1 # learning rate\n",
    "N_SAMPLES = 1280 # How many samples we want to generate \n",
    "NOISE = 0.2 # Noise to be introduced in the data\n",
    "TEST_SIZE = 0.2\n",
    "\n",
    "# parameters for Matplotlib\n",
    "params = {'legend.fontsize': 'x-large',\n",
    "          'figure.figsize': (15, 8),\n",
    "          'axes.labelsize': 'x-large',\n",
    "          'axes.titlesize':'x-large',\n",
    "          'xtick.labelsize':'x-large',\n",
    "          'ytick.labelsize':'x-large'\n",
    "         }\n",
    "\n",
    "CMAP = 'coolwarm' # plt.cm.Spectral\n",
    "\n",
    "plt.rcParams.update(params)"
   ]
  },
  {
   "cell_type": "markdown",
   "metadata": {},
   "source": [
    "### Helper Functions"
   ]
  },
  {
   "cell_type": "code",
   "execution_count": 4,
   "metadata": {
    "tags": []
   },
   "outputs": [],
   "source": [
    "###-------------------------\n",
    "### Function to plot history\n",
    "###-------------------------\n",
    "\n",
    "#### Note this function is specifically designed to plot Tensorflow training output\n",
    "\n",
    "def fn_plot_hist(hist_df : pd.DataFrame):\n",
    "    \n",
    "    '''\n",
    "    Args:\n",
    "        hist_df: a dataframe with following columns\n",
    "            column 0: loss\n",
    "            column 1: accuracy\n",
    "            column 2: val_loss\n",
    "            column 3: val_accuracy\n",
    "            While plotting columns are accessed by index \n",
    "            so that even if the column names are different it will not throw exceptions.\n",
    "    '''\n",
    "    \n",
    "    # create figure and axis array\n",
    "    fig, axes = plt.subplots(1,2 , figsize = (15,6)) \n",
    "\n",
    "    \n",
    "    # properties  matplotlib.patch.Patch \n",
    "    props = dict(boxstyle='round', facecolor='aqua', alpha=0.4)\n",
    "\n",
    "    \n",
    "    # take first axis\n",
    "    ax = axes[0]\n",
    "    \n",
    "    \n",
    "    # Plot Column 0 and 2 (Loss and validation loss)\n",
    "    hist_df.plot(y = [hist_df.columns[0],hist_df.columns[2]], \n",
    "                 ax = ax,\n",
    "                 colormap=CMAP) \n",
    "\n",
    "    # get minimum values for plotting\n",
    "    lossmin = hist_df[hist_df.columns[0]].min()\n",
    "    \n",
    "    testmin = hist_df[hist_df.columns[2]].min()\n",
    "\n",
    "    \n",
    "    # little beautification\n",
    "    txtstr = \"Min {}: \\n Training : {:7.4f}\\n Testing   : {:7.4f}\".format(hist_df.columns[0],\n",
    "                                                                          lossmin,\n",
    "                                                                          testmin) #text to plot\n",
    "\n",
    "    # place a text box in upper middle in axes coords\n",
    "    ax.text(0.4, 0.95, txtstr,\n",
    "            transform=ax.transAxes,\n",
    "            fontsize=14,\n",
    "            verticalalignment='top',\n",
    "            bbox=props)\n",
    "\n",
    "    # x axis label\n",
    "    ax.set_xlabel(\"Epochs\")\n",
    "\n",
    "    # y axis lable\n",
    "    ax.set_ylabel(hist_df.columns[0].capitalize())\n",
    "    \n",
    "    # Show grids on the axis\n",
    "    ax.grid()\n",
    "    \n",
    "    \n",
    "    # take second axis object\n",
    "    ax = axes[1]\n",
    "\n",
    "    # plot column 1 and 3 (accuracy and validation accuracy)\n",
    "    hist_df.plot( y = [hist_df.columns[1], hist_df.columns[3]],\n",
    "                 ax = ax, \n",
    "                 colormap=CMAP)\n",
    "\n",
    "    \n",
    "    # little beautification\n",
    "    accmin = hist_df[hist_df.columns[1]].max()\n",
    "    \n",
    "    testmin = hist_df[hist_df.columns[3]].max()\n",
    "    \n",
    "    txtstr = \"Max {}: \\n Training : {:7.4f}\\n Testing   : {:7.4f}\".format(hist_df.columns[1],\n",
    "                                                                          accmin,\n",
    "                                                                          testmin) #text to plot\n",
    "    \n",
    "    # place a text box in upper left in axes coords\n",
    "    ax.text(0.4, 0.5, txtstr, \n",
    "            transform=ax.transAxes,\n",
    "            fontsize=14,\n",
    "            verticalalignment='top',\n",
    "            bbox=props)\n",
    "\n",
    "    ax.set_xlabel(\"Epochs\")\n",
    "    ax.set_ylabel(hist_df.columns[1].capitalize())\n",
    "    ax.grid();\n",
    "    plt.tight_layout()"
   ]
  },
  {
   "cell_type": "code",
   "execution_count": 5,
   "metadata": {
    "id": "_risr0-y02pR",
    "tags": []
   },
   "outputs": [],
   "source": [
    "###-----------------------------------\n",
    "### Function to plot Decision boundary\n",
    "###-----------------------------------\n",
    "\n",
    "def fn_plot_decision_boundary(pred_func: Callable[[], np.float64], X: np.ndarray, y: np.ndarray):\n",
    "    '''\n",
    "        Attrib:\n",
    "           pred_func : function based on predict method of the classifier\n",
    "           X : feature matrix\n",
    "           y : targets\n",
    "       Return:\n",
    "           None\n",
    "    '''\n",
    "    \n",
    "    # Set min and max values and give it some padding\n",
    "    xMin, xMax = X[:, 0].min() - .05, X[:, 0].max() + .05\n",
    "    yMin, yMax = X[:, 1].min() - .05, X[:, 1].max() + .05\n",
    "    \n",
    "    # grid size for mesh grid\n",
    "    h = 0.01\n",
    "    \n",
    "    # Generate a grid of points with distance 'h' between them\n",
    "    xx, yy = np.meshgrid(np.arange(xMin, xMax, h), np.arange(yMin, yMax, h))\n",
    "    \n",
    "    # Predict the function value for the whole grid\n",
    "    Z = pred_func(np.c_[xx.ravel(), yy.ravel()])\n",
    "    \n",
    "    # Make its shape same as that of xx \n",
    "    Z = Z.reshape(xx.shape)\n",
    "    \n",
    "    # Now we have Z value corresponding to each of the combination of xx and yy\n",
    "    # Plot the contour and training examples\n",
    "    plt.contourf(xx, yy, Z, cmap=CMAP) #, alpha = 0.8\n",
    "    \n",
    "    # plot the points as well\n",
    "    plt.scatter(X[:, 0], X[:, 1], c=y, cmap=CMAP, edgecolors='black')"
   ]
  },
  {
   "cell_type": "code",
   "execution_count": 6,
   "metadata": {},
   "outputs": [
    {
     "data": {
      "text/plain": [
       "(array([[ 2.27884737,  0.26168543],\n",
       "        [-0.23790006,  0.86719265],\n",
       "        [-0.00391944, -0.28678754],\n",
       "        [ 2.04347758,  0.63303644],\n",
       "        [ 0.09689466, -0.25552249]]),\n",
       " array([1, 0, 1, 1, 1], dtype=int64))"
      ]
     },
     "execution_count": 6,
     "metadata": {},
     "output_type": "execute_result"
    }
   ],
   "source": [
    "X, y = datasets.make_moons(n_samples=N_SAMPLES, \n",
    "                           shuffle=True, \n",
    "                           noise=NOISE, \n",
    "                           random_state=RANDOM_STATE)\n",
    "X[:5], y[:5]"
   ]
  },
  {
   "cell_type": "code",
   "execution_count": 7,
   "metadata": {},
   "outputs": [
    {
     "data": {
      "text/html": [
       "<div>\n",
       "<style scoped>\n",
       "    .dataframe tbody tr th:only-of-type {\n",
       "        vertical-align: middle;\n",
       "    }\n",
       "\n",
       "    .dataframe tbody tr th {\n",
       "        vertical-align: top;\n",
       "    }\n",
       "\n",
       "    .dataframe thead th {\n",
       "        text-align: right;\n",
       "    }\n",
       "</style>\n",
       "<table border=\"1\" class=\"dataframe\">\n",
       "  <thead>\n",
       "    <tr style=\"text-align: right;\">\n",
       "      <th></th>\n",
       "      <th>A</th>\n",
       "      <th>B</th>\n",
       "      <th>target</th>\n",
       "    </tr>\n",
       "  </thead>\n",
       "  <tbody>\n",
       "    <tr>\n",
       "      <th>0</th>\n",
       "      <td>2.278847</td>\n",
       "      <td>0.261685</td>\n",
       "      <td>1</td>\n",
       "    </tr>\n",
       "    <tr>\n",
       "      <th>1</th>\n",
       "      <td>-0.237900</td>\n",
       "      <td>0.867193</td>\n",
       "      <td>0</td>\n",
       "    </tr>\n",
       "    <tr>\n",
       "      <th>2</th>\n",
       "      <td>-0.003919</td>\n",
       "      <td>-0.286788</td>\n",
       "      <td>1</td>\n",
       "    </tr>\n",
       "    <tr>\n",
       "      <th>3</th>\n",
       "      <td>2.043478</td>\n",
       "      <td>0.633036</td>\n",
       "      <td>1</td>\n",
       "    </tr>\n",
       "    <tr>\n",
       "      <th>4</th>\n",
       "      <td>0.096895</td>\n",
       "      <td>-0.255522</td>\n",
       "      <td>1</td>\n",
       "    </tr>\n",
       "  </tbody>\n",
       "</table>\n",
       "</div>"
      ],
      "text/plain": [
       "          A         B  target\n",
       "0  2.278847  0.261685       1\n",
       "1 -0.237900  0.867193       0\n",
       "2 -0.003919 -0.286788       1\n",
       "3  2.043478  0.633036       1\n",
       "4  0.096895 -0.255522       1"
      ]
     },
     "execution_count": 7,
     "metadata": {},
     "output_type": "execute_result"
    }
   ],
   "source": [
    "data_df = pd.DataFrame(X, columns = ['A', 'B'])\n",
    "\n",
    "data_df['target'] = y\n",
    "\n",
    "data_df.head()\n"
   ]
  },
  {
   "cell_type": "code",
   "execution_count": 8,
   "metadata": {},
   "outputs": [
    {
     "data": {
      "text/plain": [
       "array([[False,  True],\n",
       "       [ True, False],\n",
       "       [False,  True],\n",
       "       ...,\n",
       "       [ True, False],\n",
       "       [False,  True],\n",
       "       [ True, False]])"
      ]
     },
     "execution_count": 8,
     "metadata": {},
     "output_type": "execute_result"
    }
   ],
   "source": [
    "y = pd.get_dummies(y).to_numpy()\n",
    "y"
   ]
  },
  {
   "cell_type": "code",
   "execution_count": 9,
   "metadata": {},
   "outputs": [],
   "source": [
    "X_train,X_test,y_train,y_test = train_test_split(X,y,test_size=TEST_SIZE,random_state=RANDOM_STATE,stratify=y)"
   ]
  },
  {
   "cell_type": "code",
   "execution_count": 10,
   "metadata": {},
   "outputs": [],
   "source": [
    "# Softmax function\n",
    "def fn_softmax(z):\n",
    "    exp_z = np.exp(z)\n",
    "    return exp_z/np.sum(exp_z,axis=1,keepdims=True)"
   ]
  },
  {
   "cell_type": "code",
   "execution_count": 11,
   "metadata": {},
   "outputs": [
    {
     "data": {
      "text/plain": [
       "(2,)"
      ]
     },
     "execution_count": 11,
     "metadata": {},
     "output_type": "execute_result"
    }
   ],
   "source": [
    "sm = fn_softmax(np.asarray([[8,5,0],[-10,0,10]]))\n",
    "#sm.shape\n",
    "sm.sum(axis=1).shape"
   ]
  },
  {
   "cell_type": "code",
   "execution_count": 12,
   "metadata": {},
   "outputs": [],
   "source": [
    "def fn_activ(z):\n",
    "    return np.tanh(z)\n",
    "def fn_activ_prime(a):\n",
    "    return 1-np.tanh(a)**2"
   ]
  },
  {
   "cell_type": "code",
   "execution_count": 13,
   "metadata": {},
   "outputs": [],
   "source": [
    "def predict(model,X_p):\n",
    "    W1,b1,W2,b2 = model['W1'],model['b1'],model['W2'],model['b2']\n",
    "    \n",
    "    # Layer1 \n",
    "    z1 = X_p.dot(W1)+b1  # Aggregation\n",
    "    a1 = fn_activ(z1)  # Activation\n",
    "\n",
    "    #Layer 2\n",
    "    z2=a1.dot(W2)+b2  # Aggregation\n",
    "    a2=fn_softmax(z2)    # Activation\n",
    "    return np.argmax(a2,axis=1) #Pick index of class with highest probability\n",
    "    "
   ]
  },
  {
   "cell_type": "code",
   "execution_count": 14,
   "metadata": {},
   "outputs": [],
   "source": [
    "def calculate_loss(model,X_l,y_l):\n",
    "    W1,b1,W2,b2 = model['W1'],model['b1'],model['W2'],model['b2']\n",
    "    m=X_l.shape[0]\n",
    "    ### Forward Propogation\n",
    "    # Layer1 \n",
    "    z1 = X_l.dot(W1)+b1  # Aggregation\n",
    "    a1 = fn_activ(z1)  # Activation\n",
    "\n",
    "    #Layer 2\n",
    "    z2=a1.dot(W2)+b2  # Aggregation\n",
    "    a2=fn_softmax(z2)    # Activation\n",
    "\n",
    "    data_loss = -((y_l)*np.log(a2)+\n",
    "                  (1-y_l)*np.log(1-a2)).sum() # Binary\n",
    "\n",
    "    return data_loss / m"
   ]
  },
  {
   "cell_type": "code",
   "execution_count": 15,
   "metadata": {},
   "outputs": [],
   "source": [
    "loss_hist = {}"
   ]
  },
  {
   "cell_type": "code",
   "execution_count": 19,
   "metadata": {},
   "outputs": [
    {
     "data": {
      "text/plain": [
       "(1024, 2)"
      ]
     },
     "execution_count": 19,
     "metadata": {},
     "output_type": "execute_result"
    }
   ],
   "source": [
    "X_train.shape"
   ]
  },
  {
   "cell_type": "code",
   "execution_count": 20,
   "metadata": {},
   "outputs": [],
   "source": [
    "def build_model(X_tr,y_tr,nn_hdim,nn_out,alpha=ALPHA,epochs=EPOCHS):\n",
    "    m,nn_input_dim = X_tr.shape\n",
    "    nn_output_dim = nn_out\n",
    "    W1 = np.random.randn(nn_input_dim,nn_hdim)/np.sqrt(nn_input_dim)\n",
    "    W2 = np.random.randn(nn_hdim,nn_output_dim)/np.sqrt(nn_hdim)\n",
    "    b1 = np.zeros((1,nn_hdim),dtype=np.float32)\n",
    "    b2 = np.zeros((1,nn_output_dim),dtype=np.float32)\n",
    "    curr_loss=0\n",
    "    loss,epoch=[],[]\n",
    "    for i in range(0,epochs):\n",
    "        ### Forward Propogation\n",
    "        # Layer1 \n",
    "        z1 = X_tr.dot(W1)+b1  # Aggregation   z = X.W +b\n",
    "        a1 = fn_activ(z1)     # Activation  a=g(z)\n",
    "\n",
    "        #Layer 2\n",
    "        z2=a1.dot(W2)+b2    # Aggregation  z = X.W +b\n",
    "        a2=fn_softmax(z2)   # Activation  a=g(z)\n",
    " \n",
    "        ## Back propogation\n",
    "        assert(a2.shape == y_tr.shape), f'check y {a2.shape}/{y_tr.shape}'\n",
    "        dz2 = a2 - y_tr # REMEMBER dim of a2 and y to be same\n",
    "\n",
    "        dW2 = (a1.T).dot(dz2)\n",
    "\n",
    "        assert(W2.shape == dW2.shape), f'check W2 {W2.shape}/{dW2.shape}'\n",
    "\n",
    "        db2 = np.sum(dz2,axis=0,keepdims=True)\n",
    "        assert(b2.shape == db2.shape), f'check b2 {b2.shape}/{db2.shape}'\n",
    "\n",
    "        da1 = dz2.dot(W2.T)\n",
    "        assert(a1.shape == da1.shape), f'check b2 {a1.shape}/{da1.shape}'\n",
    "\n",
    "        #Layer 1 \n",
    "        dz1 = da1 * fn_activ_prime(z1)\n",
    "        assert(z1.shape == dz1.shape), f'check b2 {z1.shape}/{dz1.shape}'\n",
    "\n",
    "        dW1  = (X_tr.T).dot(dz1)\n",
    "        assert(W1.shape == dW1.shape), f'check W2 {W1.shape}/{dW1.shape}'\n",
    "\n",
    "        db1 = np.sum(dz1,axis=0,keepdims=True)\n",
    "        assert(b1.shape == db1.shape), f'check b2 {b1.shape}/{db1.shape}'\n",
    "\n",
    "        ### Gradient Update\n",
    "        W1 += -alpha*dW1/m\n",
    "        b1 += -alpha*db1/m\n",
    "        W2 += -alpha*dW2/m\n",
    "        b2 += -alpha*db2/m\n",
    "\n",
    "        model = {'W1':W1,'b1':b1,\n",
    "                 'W2': W2, 'b2': b2}\n",
    "        \n",
    "        curr_loss = calculate_loss(model,X_tr,y_tr)\n",
    "        loss.append(curr_loss)\n",
    "        epoch.append(i)\n",
    "\n",
    "        if i%1000 == 0:\n",
    "            print(f'After epoch : {i:3d}; loss : {curr_loss:.5f}')\n",
    "\n",
    "    loss_hist['epoch']=epoch\n",
    "    loss_hist['loss']=loss\n",
    "\n",
    "    return model"
   ]
  },
  {
   "cell_type": "code",
   "execution_count": 21,
   "metadata": {},
   "outputs": [
    {
     "ename": "AssertionError",
     "evalue": "check y (1024, 1)/(1024, 2)",
     "output_type": "error",
     "traceback": [
      "\u001b[1;31m---------------------------------------------------------------------------\u001b[0m",
      "\u001b[1;31mAssertionError\u001b[0m                            Traceback (most recent call last)",
      "Cell \u001b[1;32mIn[21], line 2\u001b[0m\n\u001b[0;32m      1\u001b[0m nn_output_dim\u001b[38;5;241m=\u001b[39m\u001b[38;5;241m1\u001b[39m\n\u001b[1;32m----> 2\u001b[0m model \u001b[38;5;241m=\u001b[39m build_model(X_train,y_train,\u001b[38;5;241m1\u001b[39m,nn_output_dim)\n",
      "Cell \u001b[1;32mIn[20], line 21\u001b[0m, in \u001b[0;36mbuild_model\u001b[1;34m(X_tr, y_tr, nn_hdim, nn_out, alpha, epochs)\u001b[0m\n\u001b[0;32m     18\u001b[0m a2\u001b[38;5;241m=\u001b[39mfn_softmax(z2)   \u001b[38;5;66;03m# Activation  a=g(z)\u001b[39;00m\n\u001b[0;32m     20\u001b[0m \u001b[38;5;66;03m## Back propogation\u001b[39;00m\n\u001b[1;32m---> 21\u001b[0m \u001b[38;5;28;01massert\u001b[39;00m(a2\u001b[38;5;241m.\u001b[39mshape \u001b[38;5;241m==\u001b[39m y_tr\u001b[38;5;241m.\u001b[39mshape), \u001b[38;5;124mf\u001b[39m\u001b[38;5;124m'\u001b[39m\u001b[38;5;124mcheck y \u001b[39m\u001b[38;5;132;01m{\u001b[39;00ma2\u001b[38;5;241m.\u001b[39mshape\u001b[38;5;132;01m}\u001b[39;00m\u001b[38;5;124m/\u001b[39m\u001b[38;5;132;01m{\u001b[39;00my_tr\u001b[38;5;241m.\u001b[39mshape\u001b[38;5;132;01m}\u001b[39;00m\u001b[38;5;124m'\u001b[39m\n\u001b[0;32m     22\u001b[0m dz2 \u001b[38;5;241m=\u001b[39m a2 \u001b[38;5;241m-\u001b[39m y_tr \u001b[38;5;66;03m# REMEMBER dim of a2 and y to be same\u001b[39;00m\n\u001b[0;32m     24\u001b[0m dW2 \u001b[38;5;241m=\u001b[39m (a1\u001b[38;5;241m.\u001b[39mT)\u001b[38;5;241m.\u001b[39mdot(dz2)\n",
      "\u001b[1;31mAssertionError\u001b[0m: check y (1024, 1)/(1024, 2)"
     ]
    }
   ],
   "source": [
    "nn_output_dim=1\n",
    "model = build_model(X_train,y_train,1,nn_output_dim)"
   ]
  },
  {
   "cell_type": "code",
   "execution_count": null,
   "metadata": {},
   "outputs": [],
   "source": [
    "model"
   ]
  },
  {
   "cell_type": "code",
   "execution_count": null,
   "metadata": {},
   "outputs": [],
   "source": [
    "pd.DataFrame(loss_hist).plot(x='epoch')"
   ]
  },
  {
   "cell_type": "markdown",
   "metadata": {},
   "source": [
    "# Train Data"
   ]
  },
  {
   "cell_type": "code",
   "execution_count": null,
   "metadata": {},
   "outputs": [],
   "source": [
    "y_pred = predict(model,X_train)\n",
    "accuracy_score(y_train.argmax(axis=1),y_pred)"
   ]
  },
  {
   "cell_type": "code",
   "execution_count": null,
   "metadata": {},
   "outputs": [],
   "source": [
    "X = X_train\n",
    "fig,ax = plt.subplots()\n",
    "\n",
    "dm = 0.005\n",
    "x_min,x_max = X[:,0].min()-0.05,X[:,0].max()+0.05\n",
    "y_min,y_max = X[:,1].min()-0.05,X[:,1].max()+0.05\n",
    "\n",
    "xx,yy = np.meshgrid(np.arange(x_min,x_max,dm),\n",
    "                    np.arange(y_min,y_max,dm))\n",
    "\n",
    "XX = np.c_[xx.ravel(),yy.ravel()]\n",
    "y_pred = predict(model,XX)\n",
    "\n",
    "\n",
    "y_pred = predict(model,XX)\n",
    "Z = np.array(y_pred).reshape(xx.shape)\n",
    "ax.contourf(xx,yy,Z,cmap = CMAP,alpha=0.8)\n",
    "ax.scatter(X[:,0],X[:,1],c=y_train.argmax(axis=1),edgecolors='k',cmap=plt.cm.bwr)"
   ]
  },
  {
   "cell_type": "markdown",
   "metadata": {},
   "source": [
    "# Test Data"
   ]
  },
  {
   "cell_type": "code",
   "execution_count": null,
   "metadata": {},
   "outputs": [],
   "source": [
    "y_pred = predict(model,X_test)\n",
    "accuracy_score(y_test.argmax(axis=1),y_pred)"
   ]
  },
  {
   "cell_type": "code",
   "execution_count": null,
   "metadata": {},
   "outputs": [],
   "source": [
    "cm = confusion_matrix(y_test.argmax(axis=1),y_pred)\n",
    "cm"
   ]
  },
  {
   "cell_type": "code",
   "execution_count": null,
   "metadata": {},
   "outputs": [],
   "source": [
    "disp = ConfusionMatrixDisplay(confusion_matrix=cm,\n",
    "                              display_labels=[0,1])\n",
    "fig,ax = plt.subplots(figsize=(6,6))\n",
    "disp.plot(ax=ax,cmap=plt.cm.Blues)\n",
    "ax.grid(False)"
   ]
  }
 ],
 "metadata": {
  "accelerator": "GPU",
  "colab": {
   "name": "S05a_one_hidden_layer_with_tanh_wip.ipynb",
   "provenance": []
  },
  "kernelspec": {
   "display_name": "Python 3 (ipykernel)",
   "language": "python",
   "name": "python3"
  },
  "language_info": {
   "codemirror_mode": {
    "name": "ipython",
    "version": 3
   },
   "file_extension": ".py",
   "mimetype": "text/x-python",
   "name": "python",
   "nbconvert_exporter": "python",
   "pygments_lexer": "ipython3",
   "version": "3.11.7"
  }
 },
 "nbformat": 4,
 "nbformat_minor": 4
}
