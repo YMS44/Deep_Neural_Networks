{
 "cells": [
  {
   "cell_type": "code",
   "execution_count": 47,
   "id": "a2e75ead",
   "metadata": {},
   "outputs": [],
   "source": [
    "#!/usr/bin/env python\n",
    "# -*- coding: utf-8 -*-"
   ]
  },
  {
   "cell_type": "markdown",
   "id": "62893468",
   "metadata": {},
   "source": [
    "\n",
    "# Deep Neural Networks\n",
    "\n",
    "## Session 08b\n",
    "## Introduction to Pytorch\n",
    "- one hidden layer \n",
    "- ${tanh}$ activation function\n",
    "- multi-class output\n",
    "- FIFA dataset \n",
    "\n",
    "<img src='../../prasami_images/prasami_color_tutorials_small.png' width='400' alt=\"By Pramod Sharma : pramod.sharma@prasami.com\" align=\"left\"/>"
   ]
  },
  {
   "cell_type": "code",
   "execution_count": 85,
   "id": "3d52e7d5",
   "metadata": {},
   "outputs": [],
   "source": [
    "import os\n",
    "#import numpy as np\n",
    "import pandas as pd\n",
    "\n",
    "from sklearn.model_selection import train_test_split\n",
    "from sklearn.metrics import accuracy_score, confusion_matrix, classification_report, ConfusionMatrixDisplay\n",
    "from sklearn.preprocessing import StandardScaler\n",
    "\n",
    "import matplotlib.pyplot as plt\n",
    "\n",
    "import torch\n",
    "import torch.nn as nn\n",
    "\n",
    "#from utils.helper import fn_plot_torch_hist, fn_plot_confusion_matrix"
   ]
  },
  {
   "cell_type": "code",
   "execution_count": 49,
   "id": "0ad68d23",
   "metadata": {},
   "outputs": [],
   "source": [
    "\n",
    "###----------------------\n",
    "### Plot confusion matrix\n",
    "###----------------------\n",
    "def fn_plot_confusion_matrix(y_true, y_pred, labels):\n",
    "    '''\n",
    "    Args:\n",
    "        y_true: Ground Truth \n",
    "        y_pred : Predictions\n",
    "        labels : dictonary \n",
    "                  {0: 'Goal Keeper', \n",
    "                  1: 'Defender', \n",
    "                  2: 'Mid-Fielder', \n",
    "                  3: 'Forward'}\n",
    "    \n",
    "    '''\n",
    "    \n",
    "    cm  = confusion_matrix(y_true, y_pred)\n",
    "    \n",
    "    disp = ConfusionMatrixDisplay(confusion_matrix=cm,\n",
    "                                  display_labels=labels.values())\n",
    "    \n",
    "    fig, ax = plt.subplots(figsize = (6,6))\n",
    "    \n",
    "    disp.plot(ax = ax, cmap = 'Blues', xticks_rotation = 'vertical', colorbar=False)\n",
    "    # Disable the grid\n",
    "    ax.grid(False)\n",
    "\n",
    "    plt.show();"
   ]
  },
  {
   "cell_type": "code",
   "execution_count": 50,
   "id": "b25e57ba",
   "metadata": {},
   "outputs": [],
   "source": [
    "###------------------------------\n",
    "### Plot Loss Curve using pytorch\n",
    "###------------------------------\n",
    "def fn_plot_torch_hist(hist_df):\n",
    "    \n",
    "    # instantiate figure\n",
    "    fig, axes = plt.subplots(1,2 , figsize = (15,6))\n",
    "    \n",
    "    # properties  matplotlib.patch.Patch \n",
    "    props = dict(boxstyle='round', facecolor='cyan', alpha=0.5)\n",
    "\n",
    "    # columns\n",
    "    x = hist_df.columns[0]\n",
    "    y1 = hist_df.columns[1]\n",
    "    y2 = hist_df.columns[2]\n",
    "    y3 = hist_df.columns[3]\n",
    "    y4 = hist_df.columns[4]\n",
    "    \n",
    "    # Where was min loss\n",
    "    best = hist_df[hist_df[y2] == hist_df[y2].min()]\n",
    "    best = best.drop_duplicates(subset=y2)\n",
    "    # pick first axis\n",
    "    ax = axes[0]\n",
    "\n",
    "    # Plot all losses\n",
    "    hist_df.plot(x = x, y = [y1, y2], ax = ax)\n",
    "\n",
    "    # calculate offset for arroe\n",
    "    y_min = min(hist_df[y1].min(), hist_df[y2].min())\n",
    "    y_max = max(hist_df[y1].max(), hist_df[y2].max())\n",
    "    offset = (y_max-y_min)/10.0\n",
    "\n",
    "    # little beautification\n",
    "    txtFmt = \"Loss: \\n  train: {:6.4f}\\n   test: {:6.4f}\"\n",
    "    txtstr = txtFmt.format(hist_df.iloc[-1][y1],\n",
    "                           hist_df.iloc[-1][y2]) #text to plot\n",
    "\n",
    "    # place a text box in upper middle in axes coords\n",
    "    ax.text(0.3, 0.95, txtstr, transform=ax.transAxes, fontsize=14,\n",
    "            verticalalignment='top', bbox=props)\n",
    "    \n",
    "    # Mark arrow at lowest\n",
    "    ax.annotate(f'Min: {best[y2].to_numpy()[0]:6.4f}', # text to print\n",
    "                xy=(best[x].to_numpy(), best[y2].to_numpy()[0]), # Arrow start\n",
    "                xytext=(best[x].to_numpy()+ offset, best[y2].to_numpy()[0]+offset), # location of text \n",
    "                fontsize=14,va='bottom', ha='right',bbox=props, # beautification of text\n",
    "                arrowprops=dict(facecolor='cyan', shrink=0.05)) # arrow\n",
    "    \n",
    "    # Draw vertical line at best value\n",
    "    ax.axvline(x = best[x].to_numpy(), color = 'green', linestyle='-.', lw = 3);\n",
    "    \n",
    "    ax.set_xlabel(x.title())\n",
    "    ax.set_ylabel(y1.title())\n",
    "    ax.set_title('Errors')\n",
    "    ax.grid()\n",
    "    ax.legend(loc = 'upper left') # model legend to upper left\n",
    "\n",
    "    # pick second axis\n",
    "    ax = axes[1]\n",
    "\n",
    "    # Plot accuracies\n",
    "    hist_df.plot(x = x, y = [y3, y4], ax = ax)\n",
    "\n",
    "    # little beautification\n",
    "    txtFmt = \"Accuracy: \\n  train: {:6.4f}\\n  test:  {:6.4f}\"\n",
    "    txtstr = txtFmt.format(hist_df.iloc[-1][y3],\n",
    "                           hist_df.iloc[-1][y4]) #text to plot\n",
    "        \n",
    "    # calculate offset for arroe\n",
    "    y_min = min(hist_df[y3].min(), hist_df[y4].min())\n",
    "    y_max = max(hist_df[y3].max(), hist_df[y4].max())\n",
    "    offset = (y_max-y_min)/10.0\n",
    "\n",
    "    # place a text box in lower middle in axes coords\n",
    "    ax.text(0.3, 0.2, txtstr, transform=ax.transAxes, fontsize=12,\n",
    "            verticalalignment='top', bbox=props)\n",
    "\n",
    "    # Mark arrow at lowest\n",
    "    ax.annotate(f'Best: {best[y4].to_numpy()[0]:6.4f}', # text to print\n",
    "                xy=(best[x].to_numpy(), best[y4].to_numpy()[0]), # Arrow start\n",
    "                xytext=(best[x].to_numpy()- offset, best[y4].to_numpy()[0]-offset), # location of text \n",
    "                fontsize=14,va='bottom', ha='right',bbox=props, # beautification of text\n",
    "                arrowprops=dict(facecolor='cyan', shrink=0.05)) # arrow\n",
    "    \n",
    "    \n",
    "    # Draw a vertical line at best value\n",
    "    ax.axvline(x = best[x].to_numpy(), \n",
    "               color = 'green', \n",
    "               linestyle='-.', lw = 3)\n",
    "    \n",
    "    # Labels\n",
    "    ax.set_xlabel(x.title())\n",
    "    ax.set_ylabel(y3.title())\n",
    "    ax.set_title('Accuracies')\n",
    "    ax.grid();\n",
    "    ax.legend(loc = 'lower left')\n",
    "    \n",
    "    plt.tight_layout()\n",
    "    "
   ]
  },
  {
   "cell_type": "code",
   "execution_count": 51,
   "id": "b32a9af9",
   "metadata": {},
   "outputs": [],
   "source": [
    "# Some basic parameters\n",
    "inpDir = '../../input'\n",
    "outDir = '../output'\n",
    "\n",
    "RANDOM_STATE = 24\n",
    "torch.manual_seed(RANDOM_STATE) # Set Random Seed for reproducible  results\n",
    "\n",
    "EPOCHS = 2001 # number of epochs\n",
    "ALPHA = 0.001 # learning rate\n",
    "TEST_SIZE = 0.2\n",
    "\n",
    "# parameters for Matplotlib\n",
    "params = {'legend.fontsize': 'medium',\n",
    "          'figure.figsize': (15, 10),\n",
    "          'axes.labelsize': 'medium',\n",
    "          'axes.titlesize':'large',\n",
    "          'xtick.labelsize':'medium',\n",
    "          'ytick.labelsize':'medium'\n",
    "         }\n",
    "\n",
    "CMAP = plt.cm.Spectral\n",
    "\n",
    "plt.rcParams.update(params)"
   ]
  },
  {
   "cell_type": "markdown",
   "id": "3a424980",
   "metadata": {},
   "source": [
    "## Helper Function\n",
    "* Import from util.helper"
   ]
  },
  {
   "cell_type": "markdown",
   "id": "591b1fc2",
   "metadata": {},
   "source": [
    "## Read FIFA 2019 data set\n",
    "<img src = '../../images/fifa_2019.png' alt = 'Fifa 2019'>"
   ]
  },
  {
   "cell_type": "code",
   "execution_count": 52,
   "id": "a2177d69",
   "metadata": {},
   "outputs": [
    {
     "data": {
      "text/plain": [
       "(18207, 89)"
      ]
     },
     "execution_count": 52,
     "metadata": {},
     "output_type": "execute_result"
    }
   ],
   "source": [
    "data_df = pd.read_csv('fifa_2019.csv')\n",
    "data_df.shape"
   ]
  },
  {
   "cell_type": "code",
   "execution_count": 53,
   "id": "276462a7",
   "metadata": {},
   "outputs": [
    {
     "data": {
      "text/html": [
       "<div>\n",
       "<style scoped>\n",
       "    .dataframe tbody tr th:only-of-type {\n",
       "        vertical-align: middle;\n",
       "    }\n",
       "\n",
       "    .dataframe tbody tr th {\n",
       "        vertical-align: top;\n",
       "    }\n",
       "\n",
       "    .dataframe thead th {\n",
       "        text-align: right;\n",
       "    }\n",
       "</style>\n",
       "<table border=\"1\" class=\"dataframe\">\n",
       "  <thead>\n",
       "    <tr style=\"text-align: right;\">\n",
       "      <th></th>\n",
       "      <th>Unnamed: 0</th>\n",
       "      <th>ID</th>\n",
       "      <th>Name</th>\n",
       "      <th>Age</th>\n",
       "      <th>Photo</th>\n",
       "      <th>Nationality</th>\n",
       "      <th>Flag</th>\n",
       "      <th>Overall</th>\n",
       "      <th>Potential</th>\n",
       "      <th>Club</th>\n",
       "      <th>...</th>\n",
       "      <th>Composure</th>\n",
       "      <th>Marking</th>\n",
       "      <th>StandingTackle</th>\n",
       "      <th>SlidingTackle</th>\n",
       "      <th>GKDiving</th>\n",
       "      <th>GKHandling</th>\n",
       "      <th>GKKicking</th>\n",
       "      <th>GKPositioning</th>\n",
       "      <th>GKReflexes</th>\n",
       "      <th>Release Clause</th>\n",
       "    </tr>\n",
       "  </thead>\n",
       "  <tbody>\n",
       "    <tr>\n",
       "      <th>0</th>\n",
       "      <td>0</td>\n",
       "      <td>158023</td>\n",
       "      <td>L. Messi</td>\n",
       "      <td>31</td>\n",
       "      <td>https://cdn.sofifa.org/players/4/19/158023.png</td>\n",
       "      <td>Argentina</td>\n",
       "      <td>https://cdn.sofifa.org/flags/52.png</td>\n",
       "      <td>94</td>\n",
       "      <td>94</td>\n",
       "      <td>FC Barcelona</td>\n",
       "      <td>...</td>\n",
       "      <td>96.0</td>\n",
       "      <td>33.0</td>\n",
       "      <td>28.0</td>\n",
       "      <td>26.0</td>\n",
       "      <td>6.0</td>\n",
       "      <td>11.0</td>\n",
       "      <td>15.0</td>\n",
       "      <td>14.0</td>\n",
       "      <td>8.0</td>\n",
       "      <td>€226.5M</td>\n",
       "    </tr>\n",
       "    <tr>\n",
       "      <th>1</th>\n",
       "      <td>1</td>\n",
       "      <td>20801</td>\n",
       "      <td>Cristiano Ronaldo</td>\n",
       "      <td>33</td>\n",
       "      <td>https://cdn.sofifa.org/players/4/19/20801.png</td>\n",
       "      <td>Portugal</td>\n",
       "      <td>https://cdn.sofifa.org/flags/38.png</td>\n",
       "      <td>94</td>\n",
       "      <td>94</td>\n",
       "      <td>Juventus</td>\n",
       "      <td>...</td>\n",
       "      <td>95.0</td>\n",
       "      <td>28.0</td>\n",
       "      <td>31.0</td>\n",
       "      <td>23.0</td>\n",
       "      <td>7.0</td>\n",
       "      <td>11.0</td>\n",
       "      <td>15.0</td>\n",
       "      <td>14.0</td>\n",
       "      <td>11.0</td>\n",
       "      <td>€127.1M</td>\n",
       "    </tr>\n",
       "    <tr>\n",
       "      <th>2</th>\n",
       "      <td>2</td>\n",
       "      <td>190871</td>\n",
       "      <td>Neymar Jr</td>\n",
       "      <td>26</td>\n",
       "      <td>https://cdn.sofifa.org/players/4/19/190871.png</td>\n",
       "      <td>Brazil</td>\n",
       "      <td>https://cdn.sofifa.org/flags/54.png</td>\n",
       "      <td>92</td>\n",
       "      <td>93</td>\n",
       "      <td>Paris Saint-Germain</td>\n",
       "      <td>...</td>\n",
       "      <td>94.0</td>\n",
       "      <td>27.0</td>\n",
       "      <td>24.0</td>\n",
       "      <td>33.0</td>\n",
       "      <td>9.0</td>\n",
       "      <td>9.0</td>\n",
       "      <td>15.0</td>\n",
       "      <td>15.0</td>\n",
       "      <td>11.0</td>\n",
       "      <td>€228.1M</td>\n",
       "    </tr>\n",
       "    <tr>\n",
       "      <th>3</th>\n",
       "      <td>3</td>\n",
       "      <td>193080</td>\n",
       "      <td>De Gea</td>\n",
       "      <td>27</td>\n",
       "      <td>https://cdn.sofifa.org/players/4/19/193080.png</td>\n",
       "      <td>Spain</td>\n",
       "      <td>https://cdn.sofifa.org/flags/45.png</td>\n",
       "      <td>91</td>\n",
       "      <td>93</td>\n",
       "      <td>Manchester United</td>\n",
       "      <td>...</td>\n",
       "      <td>68.0</td>\n",
       "      <td>15.0</td>\n",
       "      <td>21.0</td>\n",
       "      <td>13.0</td>\n",
       "      <td>90.0</td>\n",
       "      <td>85.0</td>\n",
       "      <td>87.0</td>\n",
       "      <td>88.0</td>\n",
       "      <td>94.0</td>\n",
       "      <td>€138.6M</td>\n",
       "    </tr>\n",
       "    <tr>\n",
       "      <th>4</th>\n",
       "      <td>4</td>\n",
       "      <td>192985</td>\n",
       "      <td>K. De Bruyne</td>\n",
       "      <td>27</td>\n",
       "      <td>https://cdn.sofifa.org/players/4/19/192985.png</td>\n",
       "      <td>Belgium</td>\n",
       "      <td>https://cdn.sofifa.org/flags/7.png</td>\n",
       "      <td>91</td>\n",
       "      <td>92</td>\n",
       "      <td>Manchester City</td>\n",
       "      <td>...</td>\n",
       "      <td>88.0</td>\n",
       "      <td>68.0</td>\n",
       "      <td>58.0</td>\n",
       "      <td>51.0</td>\n",
       "      <td>15.0</td>\n",
       "      <td>13.0</td>\n",
       "      <td>5.0</td>\n",
       "      <td>10.0</td>\n",
       "      <td>13.0</td>\n",
       "      <td>€196.4M</td>\n",
       "    </tr>\n",
       "  </tbody>\n",
       "</table>\n",
       "<p>5 rows × 89 columns</p>\n",
       "</div>"
      ],
      "text/plain": [
       "   Unnamed: 0      ID               Name  Age  \\\n",
       "0           0  158023           L. Messi   31   \n",
       "1           1   20801  Cristiano Ronaldo   33   \n",
       "2           2  190871          Neymar Jr   26   \n",
       "3           3  193080             De Gea   27   \n",
       "4           4  192985       K. De Bruyne   27   \n",
       "\n",
       "                                            Photo Nationality  \\\n",
       "0  https://cdn.sofifa.org/players/4/19/158023.png   Argentina   \n",
       "1   https://cdn.sofifa.org/players/4/19/20801.png    Portugal   \n",
       "2  https://cdn.sofifa.org/players/4/19/190871.png      Brazil   \n",
       "3  https://cdn.sofifa.org/players/4/19/193080.png       Spain   \n",
       "4  https://cdn.sofifa.org/players/4/19/192985.png     Belgium   \n",
       "\n",
       "                                  Flag  Overall  Potential  \\\n",
       "0  https://cdn.sofifa.org/flags/52.png       94         94   \n",
       "1  https://cdn.sofifa.org/flags/38.png       94         94   \n",
       "2  https://cdn.sofifa.org/flags/54.png       92         93   \n",
       "3  https://cdn.sofifa.org/flags/45.png       91         93   \n",
       "4   https://cdn.sofifa.org/flags/7.png       91         92   \n",
       "\n",
       "                  Club  ... Composure Marking StandingTackle  SlidingTackle  \\\n",
       "0         FC Barcelona  ...      96.0    33.0           28.0           26.0   \n",
       "1             Juventus  ...      95.0    28.0           31.0           23.0   \n",
       "2  Paris Saint-Germain  ...      94.0    27.0           24.0           33.0   \n",
       "3    Manchester United  ...      68.0    15.0           21.0           13.0   \n",
       "4      Manchester City  ...      88.0    68.0           58.0           51.0   \n",
       "\n",
       "  GKDiving  GKHandling  GKKicking  GKPositioning GKReflexes Release Clause  \n",
       "0      6.0        11.0       15.0           14.0        8.0        €226.5M  \n",
       "1      7.0        11.0       15.0           14.0       11.0        €127.1M  \n",
       "2      9.0         9.0       15.0           15.0       11.0        €228.1M  \n",
       "3     90.0        85.0       87.0           88.0       94.0        €138.6M  \n",
       "4     15.0        13.0        5.0           10.0       13.0        €196.4M  \n",
       "\n",
       "[5 rows x 89 columns]"
      ]
     },
     "execution_count": 53,
     "metadata": {},
     "output_type": "execute_result"
    }
   ],
   "source": [
    "# removing rows with position = null\n",
    "data_df = data_df[data_df[\"Position\"].notnull()]\n",
    "data_df.head()"
   ]
  },
  {
   "cell_type": "code",
   "execution_count": 54,
   "id": "5a237f4a",
   "metadata": {},
   "outputs": [],
   "source": [
    "# Following columns appear to be relevant for our analysis\n",
    "rel_cols = [\"Position\", 'Finishing', 'HeadingAccuracy', 'ShortPassing', 'Volleys', 'Dribbling',\n",
    "            'Curve', 'FKAccuracy', 'LongPassing', 'BallControl', 'Acceleration',\n",
    "            'SprintSpeed', 'Agility', 'Reactions', 'Balance', 'ShotPower',\n",
    "            'Jumping', 'Stamina', 'Strength', 'LongShots', 'Aggression',\n",
    "            'Interceptions', 'Positioning', 'Vision', 'Penalties', 'Composure',\n",
    "            'Marking', 'StandingTackle', 'SlidingTackle', 'GKDiving', 'GKHandling',\n",
    "            'GKKicking', 'GKPositioning', 'GKReflexes']"
   ]
  },
  {
   "cell_type": "code",
   "execution_count": 55,
   "id": "78f6a5e9",
   "metadata": {},
   "outputs": [],
   "source": [
    "goalkeeper = 'GK'\n",
    "forward = ['ST', 'LW', 'RW', 'LF', 'RF', 'RS','LS', 'CF']\n",
    "midfielder = ['CM','RCM','LCM', 'CDM','RDM','LDM', 'CAM', 'LAM', 'RAM', 'RM', 'LM']\n",
    "defender = ['CB', 'RCB', 'LCB', 'LWB', 'RWB', 'LB', 'RB']"
   ]
  },
  {
   "cell_type": "code",
   "execution_count": 56,
   "id": "ae7c0c41",
   "metadata": {},
   "outputs": [],
   "source": [
    "#Assign labels to goalkeepers\n",
    "data_df.loc[data_df[\"Position\"] == \"GK\", \"Position\"] = 0\n",
    "\n",
    "#Defenders\n",
    "data_df.loc[data_df[\"Position\"].isin(defender), \"Position\"] = 1\n",
    "\n",
    "#Midfielders\n",
    "data_df.loc[data_df[\"Position\"].isin(midfielder), \"Position\"] = 2\n",
    "\n",
    "#Forward\n",
    "data_df.loc[data_df[\"Position\"].isin(forward), \"Position\"] = 3\n",
    "\n",
    "# Convert Column \"Position\" to numeric so that Pandas does not complain\n",
    "data_df['Position'] = pd.to_numeric(data_df['Position'], downcast=\"integer\")"
   ]
  },
  {
   "cell_type": "code",
   "execution_count": 57,
   "id": "592d6055",
   "metadata": {},
   "outputs": [
    {
     "data": {
      "text/html": [
       "<div>\n",
       "<style scoped>\n",
       "    .dataframe tbody tr th:only-of-type {\n",
       "        vertical-align: middle;\n",
       "    }\n",
       "\n",
       "    .dataframe tbody tr th {\n",
       "        vertical-align: top;\n",
       "    }\n",
       "\n",
       "    .dataframe thead th {\n",
       "        text-align: right;\n",
       "    }\n",
       "</style>\n",
       "<table border=\"1\" class=\"dataframe\">\n",
       "  <thead>\n",
       "    <tr style=\"text-align: right;\">\n",
       "      <th></th>\n",
       "      <th>Position</th>\n",
       "      <th>Finishing</th>\n",
       "      <th>HeadingAccuracy</th>\n",
       "      <th>ShortPassing</th>\n",
       "      <th>Volleys</th>\n",
       "      <th>Dribbling</th>\n",
       "      <th>Curve</th>\n",
       "      <th>FKAccuracy</th>\n",
       "      <th>LongPassing</th>\n",
       "      <th>BallControl</th>\n",
       "      <th>...</th>\n",
       "      <th>Penalties</th>\n",
       "      <th>Composure</th>\n",
       "      <th>Marking</th>\n",
       "      <th>StandingTackle</th>\n",
       "      <th>SlidingTackle</th>\n",
       "      <th>GKDiving</th>\n",
       "      <th>GKHandling</th>\n",
       "      <th>GKKicking</th>\n",
       "      <th>GKPositioning</th>\n",
       "      <th>GKReflexes</th>\n",
       "    </tr>\n",
       "  </thead>\n",
       "  <tbody>\n",
       "    <tr>\n",
       "      <th>0</th>\n",
       "      <td>3</td>\n",
       "      <td>95.0</td>\n",
       "      <td>70.0</td>\n",
       "      <td>90.0</td>\n",
       "      <td>86.0</td>\n",
       "      <td>97.0</td>\n",
       "      <td>93.0</td>\n",
       "      <td>94.0</td>\n",
       "      <td>87.0</td>\n",
       "      <td>96.0</td>\n",
       "      <td>...</td>\n",
       "      <td>75.0</td>\n",
       "      <td>96.0</td>\n",
       "      <td>33.0</td>\n",
       "      <td>28.0</td>\n",
       "      <td>26.0</td>\n",
       "      <td>6.0</td>\n",
       "      <td>11.0</td>\n",
       "      <td>15.0</td>\n",
       "      <td>14.0</td>\n",
       "      <td>8.0</td>\n",
       "    </tr>\n",
       "    <tr>\n",
       "      <th>1</th>\n",
       "      <td>3</td>\n",
       "      <td>94.0</td>\n",
       "      <td>89.0</td>\n",
       "      <td>81.0</td>\n",
       "      <td>87.0</td>\n",
       "      <td>88.0</td>\n",
       "      <td>81.0</td>\n",
       "      <td>76.0</td>\n",
       "      <td>77.0</td>\n",
       "      <td>94.0</td>\n",
       "      <td>...</td>\n",
       "      <td>85.0</td>\n",
       "      <td>95.0</td>\n",
       "      <td>28.0</td>\n",
       "      <td>31.0</td>\n",
       "      <td>23.0</td>\n",
       "      <td>7.0</td>\n",
       "      <td>11.0</td>\n",
       "      <td>15.0</td>\n",
       "      <td>14.0</td>\n",
       "      <td>11.0</td>\n",
       "    </tr>\n",
       "    <tr>\n",
       "      <th>2</th>\n",
       "      <td>3</td>\n",
       "      <td>87.0</td>\n",
       "      <td>62.0</td>\n",
       "      <td>84.0</td>\n",
       "      <td>84.0</td>\n",
       "      <td>96.0</td>\n",
       "      <td>88.0</td>\n",
       "      <td>87.0</td>\n",
       "      <td>78.0</td>\n",
       "      <td>95.0</td>\n",
       "      <td>...</td>\n",
       "      <td>81.0</td>\n",
       "      <td>94.0</td>\n",
       "      <td>27.0</td>\n",
       "      <td>24.0</td>\n",
       "      <td>33.0</td>\n",
       "      <td>9.0</td>\n",
       "      <td>9.0</td>\n",
       "      <td>15.0</td>\n",
       "      <td>15.0</td>\n",
       "      <td>11.0</td>\n",
       "    </tr>\n",
       "    <tr>\n",
       "      <th>3</th>\n",
       "      <td>0</td>\n",
       "      <td>13.0</td>\n",
       "      <td>21.0</td>\n",
       "      <td>50.0</td>\n",
       "      <td>13.0</td>\n",
       "      <td>18.0</td>\n",
       "      <td>21.0</td>\n",
       "      <td>19.0</td>\n",
       "      <td>51.0</td>\n",
       "      <td>42.0</td>\n",
       "      <td>...</td>\n",
       "      <td>40.0</td>\n",
       "      <td>68.0</td>\n",
       "      <td>15.0</td>\n",
       "      <td>21.0</td>\n",
       "      <td>13.0</td>\n",
       "      <td>90.0</td>\n",
       "      <td>85.0</td>\n",
       "      <td>87.0</td>\n",
       "      <td>88.0</td>\n",
       "      <td>94.0</td>\n",
       "    </tr>\n",
       "    <tr>\n",
       "      <th>4</th>\n",
       "      <td>2</td>\n",
       "      <td>82.0</td>\n",
       "      <td>55.0</td>\n",
       "      <td>92.0</td>\n",
       "      <td>82.0</td>\n",
       "      <td>86.0</td>\n",
       "      <td>85.0</td>\n",
       "      <td>83.0</td>\n",
       "      <td>91.0</td>\n",
       "      <td>91.0</td>\n",
       "      <td>...</td>\n",
       "      <td>79.0</td>\n",
       "      <td>88.0</td>\n",
       "      <td>68.0</td>\n",
       "      <td>58.0</td>\n",
       "      <td>51.0</td>\n",
       "      <td>15.0</td>\n",
       "      <td>13.0</td>\n",
       "      <td>5.0</td>\n",
       "      <td>10.0</td>\n",
       "      <td>13.0</td>\n",
       "    </tr>\n",
       "  </tbody>\n",
       "</table>\n",
       "<p>5 rows × 34 columns</p>\n",
       "</div>"
      ],
      "text/plain": [
       "   Position  Finishing  HeadingAccuracy  ShortPassing  Volleys  Dribbling  \\\n",
       "0         3       95.0             70.0          90.0     86.0       97.0   \n",
       "1         3       94.0             89.0          81.0     87.0       88.0   \n",
       "2         3       87.0             62.0          84.0     84.0       96.0   \n",
       "3         0       13.0             21.0          50.0     13.0       18.0   \n",
       "4         2       82.0             55.0          92.0     82.0       86.0   \n",
       "\n",
       "   Curve  FKAccuracy  LongPassing  BallControl  ...  Penalties  Composure  \\\n",
       "0   93.0        94.0         87.0         96.0  ...       75.0       96.0   \n",
       "1   81.0        76.0         77.0         94.0  ...       85.0       95.0   \n",
       "2   88.0        87.0         78.0         95.0  ...       81.0       94.0   \n",
       "3   21.0        19.0         51.0         42.0  ...       40.0       68.0   \n",
       "4   85.0        83.0         91.0         91.0  ...       79.0       88.0   \n",
       "\n",
       "   Marking  StandingTackle  SlidingTackle  GKDiving  GKHandling  GKKicking  \\\n",
       "0     33.0            28.0           26.0       6.0        11.0       15.0   \n",
       "1     28.0            31.0           23.0       7.0        11.0       15.0   \n",
       "2     27.0            24.0           33.0       9.0         9.0       15.0   \n",
       "3     15.0            21.0           13.0      90.0        85.0       87.0   \n",
       "4     68.0            58.0           51.0      15.0        13.0        5.0   \n",
       "\n",
       "   GKPositioning  GKReflexes  \n",
       "0           14.0         8.0  \n",
       "1           14.0        11.0  \n",
       "2           15.0        11.0  \n",
       "3           88.0        94.0  \n",
       "4           10.0        13.0  \n",
       "\n",
       "[5 rows x 34 columns]"
      ]
     },
     "execution_count": 57,
     "metadata": {},
     "output_type": "execute_result"
    }
   ],
   "source": [
    "data_df = data_df[rel_cols]\n",
    "data_df.head()"
   ]
  },
  {
   "cell_type": "code",
   "execution_count": 58,
   "id": "2090980a",
   "metadata": {},
   "outputs": [],
   "source": [
    "class_labels = {0: 'GK', 1: 'Defender', 2: 'Mid Fielder', 3 : 'Forward'}"
   ]
  },
  {
   "cell_type": "code",
   "execution_count": 59,
   "id": "52a0e136",
   "metadata": {},
   "outputs": [
    {
     "data": {
      "text/plain": [
       "((18147, 33), (18147,))"
      ]
     },
     "execution_count": 59,
     "metadata": {},
     "output_type": "execute_result"
    }
   ],
   "source": [
    "y = data_df[\"Position\"].to_numpy()\n",
    "\n",
    "X = data_df.drop(\"Position\", axis = 1)\n",
    "\n",
    "X.shape, y.shape"
   ]
  },
  {
   "cell_type": "code",
   "execution_count": 60,
   "id": "f579f3af",
   "metadata": {},
   "outputs": [
    {
     "name": "stdout",
     "output_type": "stream",
     "text": [
      "(14517, 33) (14517,) (3630, 33) (3630,)\n"
     ]
    }
   ],
   "source": [
    "#  Split the data in training and test sets to measure performance of the model.\n",
    "X_train, X_test, y_train, y_test = train_test_split(X, y, \n",
    "                                                    test_size=TEST_SIZE, \n",
    "                                                    stratify=y, \n",
    "                                                    random_state=RANDOM_STATE )\n",
    "\n",
    "print (X_train.shape, y_train.shape, X_test.shape, y_test.shape)"
   ]
  },
  {
   "cell_type": "code",
   "execution_count": 61,
   "id": "16abb0c9",
   "metadata": {},
   "outputs": [],
   "source": [
    "sc = StandardScaler()\n",
    "\n",
    "X_train = sc.fit_transform(X_train)\n",
    "\n",
    "X_test = sc.transform(X_test)"
   ]
  },
  {
   "cell_type": "code",
   "execution_count": 62,
   "id": "de6c4efd",
   "metadata": {},
   "outputs": [
    {
     "data": {
      "text/plain": [
       "False"
      ]
     },
     "execution_count": 62,
     "metadata": {},
     "output_type": "execute_result"
    }
   ],
   "source": [
    "torch.cuda.is_available()"
   ]
  },
  {
   "cell_type": "code",
   "execution_count": 63,
   "id": "adbcd5b6",
   "metadata": {},
   "outputs": [],
   "source": [
    "torch.version.cuda"
   ]
  },
  {
   "cell_type": "code",
   "execution_count": 64,
   "id": "a0b5adf4",
   "metadata": {},
   "outputs": [
    {
     "ename": "AssertionError",
     "evalue": "Torch not compiled with CUDA enabled",
     "output_type": "error",
     "traceback": [
      "\u001b[1;31m---------------------------------------------------------------------------\u001b[0m",
      "\u001b[1;31mAssertionError\u001b[0m                            Traceback (most recent call last)",
      "Cell \u001b[1;32mIn[64], line 1\u001b[0m\n\u001b[1;32m----> 1\u001b[0m torch\u001b[38;5;241m.\u001b[39mcuda\u001b[38;5;241m.\u001b[39mget_device_name(torch\u001b[38;5;241m.\u001b[39mcuda\u001b[38;5;241m.\u001b[39mcurrent_device())\n",
      "File \u001b[1;32mc:\\Users\\Administrator.DAI-PC2\\anaconda3\\Lib\\site-packages\\torch\\cuda\\__init__.py:778\u001b[0m, in \u001b[0;36mcurrent_device\u001b[1;34m()\u001b[0m\n\u001b[0;32m    776\u001b[0m \u001b[38;5;28;01mdef\u001b[39;00m \u001b[38;5;21mcurrent_device\u001b[39m() \u001b[38;5;241m-\u001b[39m\u001b[38;5;241m>\u001b[39m \u001b[38;5;28mint\u001b[39m:\n\u001b[0;32m    777\u001b[0m \u001b[38;5;250m    \u001b[39m\u001b[38;5;124mr\u001b[39m\u001b[38;5;124;03m\"\"\"Return the index of a currently selected device.\"\"\"\u001b[39;00m\n\u001b[1;32m--> 778\u001b[0m     _lazy_init()\n\u001b[0;32m    779\u001b[0m     \u001b[38;5;28;01mreturn\u001b[39;00m torch\u001b[38;5;241m.\u001b[39m_C\u001b[38;5;241m.\u001b[39m_cuda_getDevice()\n",
      "File \u001b[1;32mc:\\Users\\Administrator.DAI-PC2\\anaconda3\\Lib\\site-packages\\torch\\cuda\\__init__.py:284\u001b[0m, in \u001b[0;36m_lazy_init\u001b[1;34m()\u001b[0m\n\u001b[0;32m    279\u001b[0m     \u001b[38;5;28;01mraise\u001b[39;00m \u001b[38;5;167;01mRuntimeError\u001b[39;00m(\n\u001b[0;32m    280\u001b[0m         \u001b[38;5;124m\"\u001b[39m\u001b[38;5;124mCannot re-initialize CUDA in forked subprocess. To use CUDA with \u001b[39m\u001b[38;5;124m\"\u001b[39m\n\u001b[0;32m    281\u001b[0m         \u001b[38;5;124m\"\u001b[39m\u001b[38;5;124mmultiprocessing, you must use the \u001b[39m\u001b[38;5;124m'\u001b[39m\u001b[38;5;124mspawn\u001b[39m\u001b[38;5;124m'\u001b[39m\u001b[38;5;124m start method\u001b[39m\u001b[38;5;124m\"\u001b[39m\n\u001b[0;32m    282\u001b[0m     )\n\u001b[0;32m    283\u001b[0m \u001b[38;5;28;01mif\u001b[39;00m \u001b[38;5;129;01mnot\u001b[39;00m \u001b[38;5;28mhasattr\u001b[39m(torch\u001b[38;5;241m.\u001b[39m_C, \u001b[38;5;124m\"\u001b[39m\u001b[38;5;124m_cuda_getDeviceCount\u001b[39m\u001b[38;5;124m\"\u001b[39m):\n\u001b[1;32m--> 284\u001b[0m     \u001b[38;5;28;01mraise\u001b[39;00m \u001b[38;5;167;01mAssertionError\u001b[39;00m(\u001b[38;5;124m\"\u001b[39m\u001b[38;5;124mTorch not compiled with CUDA enabled\u001b[39m\u001b[38;5;124m\"\u001b[39m)\n\u001b[0;32m    285\u001b[0m \u001b[38;5;28;01mif\u001b[39;00m _cudart \u001b[38;5;129;01mis\u001b[39;00m \u001b[38;5;28;01mNone\u001b[39;00m:\n\u001b[0;32m    286\u001b[0m     \u001b[38;5;28;01mraise\u001b[39;00m \u001b[38;5;167;01mAssertionError\u001b[39;00m(\n\u001b[0;32m    287\u001b[0m         \u001b[38;5;124m\"\u001b[39m\u001b[38;5;124mlibcudart functions unavailable. It looks like you have a broken build?\u001b[39m\u001b[38;5;124m\"\u001b[39m\n\u001b[0;32m    288\u001b[0m     )\n",
      "\u001b[1;31mAssertionError\u001b[0m: Torch not compiled with CUDA enabled"
     ]
    }
   ],
   "source": [
    "#torch.cuda.get_device_name(torch.cuda.current_device())"
   ]
  },
  {
   "cell_type": "code",
   "execution_count": 65,
   "id": "182fbe2a",
   "metadata": {},
   "outputs": [
    {
     "data": {
      "text/plain": [
       "'cpu'"
      ]
     },
     "execution_count": 65,
     "metadata": {},
     "output_type": "execute_result"
    }
   ],
   "source": [
    "device = 'cuda' if torch.cuda.is_available() else 'cpu'\n",
    "device"
   ]
  },
  {
   "cell_type": "code",
   "execution_count": 66,
   "id": "dd0f0923",
   "metadata": {},
   "outputs": [],
   "source": [
    "input_dim = X_train.shape[1]\n",
    "\n",
    "model = nn.Sequential(\n",
    "    nn.Linear( input_dim, 18),\n",
    "    nn.Tanh(),\n",
    "    nn.Linear( 18, 4),).to(device=device)"
   ]
  },
  {
   "cell_type": "code",
   "execution_count": 67,
   "id": "641b7920",
   "metadata": {},
   "outputs": [
    {
     "name": "stdout",
     "output_type": "stream",
     "text": [
      "Sequential(\n",
      "  (0): Linear(in_features=33, out_features=18, bias=True)\n",
      "  (1): Tanh()\n",
      "  (2): Linear(in_features=18, out_features=4, bias=True)\n",
      ")\n"
     ]
    }
   ],
   "source": [
    "print(model)"
   ]
  },
  {
   "cell_type": "markdown",
   "id": "116bc058",
   "metadata": {},
   "source": [
    "### Alternate model creation\n",
    ">class Model ( nn.Module ):\n",
    "    \n",
    ">    def __init__ (self, input_dim):\n",
    "        \n",
    ">        super( Model, self).__init__()\n",
    "        \n",
    ">        self.layer1 = nn.Linear( input_dim, 18)\n",
    "        \n",
    ">        self.layer2 = nn.Linear( 18, 4)\n",
    "        \n",
    ">    def forward(self, x):\n",
    "        \n",
    ">        x = F.silu (  self.layer1 ( x ) ) # Layer 1 activations\n",
    "\n",
    ">        x =   self.layer2 ( x ) # Layer 2 activations\n",
    "    \n",
    ">        return x"
   ]
  },
  {
   "cell_type": "code",
   "execution_count": 68,
   "id": "8095ee67",
   "metadata": {
    "scrolled": true
   },
   "outputs": [
    {
     "data": {
      "text/plain": [
       "[Parameter containing:\n",
       " tensor([[ 9.2062e-02, -4.3501e-02, -1.4794e-01,  1.0717e-02,  1.6225e-01,\n",
       "          -7.7643e-02, -5.6670e-02,  1.3613e-01, -2.4222e-02, -6.6486e-02,\n",
       "          -3.5062e-02,  6.3746e-03, -1.4182e-01, -4.9749e-02,  1.6879e-01,\n",
       "          -3.7317e-02,  1.5855e-01, -6.7960e-02, -7.0020e-02, -5.1887e-02,\n",
       "          -1.5565e-01, -1.0485e-01,  1.0520e-01, -1.3059e-01,  5.9465e-02,\n",
       "           1.6379e-01, -2.2121e-02,  7.6153e-02,  8.1313e-02, -1.2426e-01,\n",
       "          -6.7123e-02, -5.4516e-02,  1.6798e-01],\n",
       "         [-1.5537e-01,  1.0537e-01,  1.6350e-01,  1.3764e-01,  7.4190e-02,\n",
       "           7.7494e-02, -9.2818e-03,  8.7583e-02,  1.5868e-01, -5.5976e-02,\n",
       "           1.6820e-01,  2.7665e-02, -1.2210e-01, -1.2494e-01,  6.1399e-02,\n",
       "          -2.4561e-02, -7.6685e-02,  8.8150e-02, -9.1821e-02, -8.3203e-02,\n",
       "           3.2539e-02, -3.1431e-02, -1.4688e-01, -5.2295e-02, -6.1178e-02,\n",
       "          -7.4187e-02,  1.3552e-01, -2.6404e-02, -1.0632e-01,  5.1576e-02,\n",
       "           2.9993e-02, -1.3217e-01, -1.6670e-01],\n",
       "         [ 1.3171e-01, -1.6122e-01,  1.7279e-01,  9.7198e-02,  1.4528e-01,\n",
       "          -1.5150e-01,  6.4040e-02, -1.6898e-01,  4.9568e-02,  7.9345e-02,\n",
       "           2.5495e-02, -6.2313e-02, -6.4589e-02, -1.4379e-02,  1.6291e-01,\n",
       "           9.9939e-02,  1.1838e-01, -6.3572e-02,  4.0872e-02, -1.0743e-01,\n",
       "          -2.2138e-02, -8.6267e-02,  7.2575e-02,  8.9253e-02,  2.1600e-02,\n",
       "           1.3821e-01, -1.7293e-01,  7.5497e-02,  9.4110e-02,  1.5821e-01,\n",
       "           3.7730e-02, -1.5924e-01,  1.1676e-01],\n",
       "         [-9.2314e-03,  5.7819e-02, -1.1773e-01,  6.2523e-03,  1.6676e-01,\n",
       "           5.6022e-02,  1.4094e-01,  3.3539e-02,  1.4469e-01, -1.5003e-01,\n",
       "           7.2007e-02,  1.6235e-01,  8.1004e-02,  1.0369e-01,  1.2184e-01,\n",
       "           1.4953e-01, -1.2141e-01,  3.0676e-02, -1.2699e-01,  1.0277e-01,\n",
       "           5.9274e-02, -1.2675e-01, -1.5087e-02, -1.1322e-01,  2.6193e-02,\n",
       "          -1.0141e-01,  6.8194e-02, -1.5725e-01,  5.0745e-02,  1.4601e-01,\n",
       "           1.0996e-01,  1.4564e-01, -7.1777e-03],\n",
       "         [-1.2569e-01,  2.2273e-02, -6.6320e-02, -1.1097e-01,  1.0591e-01,\n",
       "           2.1331e-02,  8.8163e-02,  1.6766e-01,  2.7170e-02, -1.6234e-01,\n",
       "           4.9072e-02,  8.2872e-02,  4.6587e-03, -1.4860e-01,  1.6555e-01,\n",
       "          -1.6302e-01,  1.2097e-01, -7.9338e-03,  1.2631e-01, -1.4749e-01,\n",
       "           1.7400e-01,  5.8590e-02,  1.5419e-01,  1.0578e-01,  1.3100e-01,\n",
       "           5.5419e-02, -5.1269e-02,  1.6080e-01,  1.3223e-01, -1.1119e-01,\n",
       "          -4.0704e-04, -5.2232e-02, -1.6664e-01],\n",
       "         [ 4.7112e-03, -1.0303e-01, -3.9158e-02, -4.4826e-02,  1.4707e-01,\n",
       "           6.7431e-02, -1.5611e-01,  9.9147e-02,  1.1358e-01,  6.8166e-02,\n",
       "           7.0615e-02,  6.8036e-02,  4.6639e-03, -1.5902e-01, -8.5738e-02,\n",
       "           1.1137e-01,  5.7114e-02,  1.3762e-01,  4.1787e-02,  1.6752e-01,\n",
       "          -7.9860e-02, -8.2741e-02,  6.1753e-02, -8.7137e-02,  6.9797e-02,\n",
       "           1.8897e-02, -6.8627e-02,  4.1373e-02,  1.6393e-01,  9.3670e-02,\n",
       "          -1.6446e-01,  7.1787e-02,  1.0347e-01],\n",
       "         [ 1.2096e-01, -4.2022e-02,  1.4122e-01,  1.3818e-01, -2.2385e-03,\n",
       "          -3.1018e-02,  1.3682e-01,  2.0263e-02,  7.4303e-02,  1.7241e-02,\n",
       "           8.4425e-02, -4.8681e-02, -1.0720e-01,  1.4585e-01,  7.9955e-02,\n",
       "           4.4475e-02,  6.9928e-02, -7.2651e-02,  8.0215e-02,  1.6192e-01,\n",
       "           1.3456e-01,  2.0599e-02,  6.8135e-02,  1.5840e-01, -2.8443e-02,\n",
       "          -1.2279e-01,  1.6070e-01,  5.1474e-02, -6.0817e-02,  4.5979e-02,\n",
       "          -7.9121e-02, -7.5332e-02,  1.1520e-01],\n",
       "         [ 1.2904e-01, -1.5858e-01, -5.1762e-02,  1.3416e-01, -1.5427e-02,\n",
       "          -1.5648e-01,  1.1510e-01, -1.4923e-01, -5.2698e-02,  6.2454e-02,\n",
       "          -1.5530e-01, -5.2698e-02,  3.9678e-02, -9.1427e-02, -3.8835e-02,\n",
       "           4.5266e-02,  5.8594e-02, -9.7240e-02,  1.4889e-01, -1.3583e-01,\n",
       "          -3.5530e-02, -1.1977e-01, -7.3704e-02, -3.2054e-02,  5.2867e-02,\n",
       "           1.2279e-01,  8.1450e-03, -1.3353e-01,  1.6176e-01,  2.0226e-02,\n",
       "           1.6510e-01,  1.3335e-01, -1.1194e-01],\n",
       "         [ 1.0569e-01, -1.5890e-02, -7.5298e-02,  1.1622e-01, -1.3585e-01,\n",
       "          -8.7753e-02, -8.4037e-02, -8.1639e-02, -3.7569e-02, -4.4648e-02,\n",
       "           3.6204e-02,  1.1593e-01, -6.2165e-02,  1.3964e-01,  1.6185e-01,\n",
       "          -7.1343e-02,  2.1888e-02, -1.6648e-02, -7.6972e-02, -2.0500e-02,\n",
       "           1.3175e-01,  3.8462e-02, -1.2627e-01,  1.2542e-01,  1.0466e-01,\n",
       "          -1.0118e-01, -1.9055e-02,  1.4056e-01, -4.0155e-02, -8.7235e-02,\n",
       "          -6.7950e-02, -2.4400e-02,  1.7323e-01],\n",
       "         [ 1.0595e-01, -1.0580e-05,  5.3670e-02,  8.3645e-02,  1.2341e-01,\n",
       "           1.2148e-01, -6.6450e-02,  5.8178e-02, -1.1858e-01, -1.9280e-02,\n",
       "          -2.4774e-02,  8.2370e-02, -8.7309e-02,  1.0886e-01, -1.2225e-01,\n",
       "          -4.1740e-02, -9.8322e-02,  7.0648e-02,  6.9045e-02, -7.6346e-02,\n",
       "          -9.4914e-02, -7.2800e-03,  2.4917e-02, -1.1487e-02, -1.2934e-01,\n",
       "           8.6608e-02, -1.1190e-01, -1.3853e-01,  1.3711e-01, -1.4000e-02,\n",
       "          -8.0237e-02,  6.4849e-02, -1.5678e-01],\n",
       "         [ 1.6804e-01,  7.6387e-02, -1.2380e-01, -4.3780e-02, -1.4240e-01,\n",
       "           6.9963e-02, -1.5370e-01,  1.5399e-01, -1.0889e-01,  4.5560e-02,\n",
       "          -1.2480e-01, -1.1683e-01, -1.7012e-01, -6.5080e-02, -1.3007e-01,\n",
       "          -8.0653e-02, -7.7295e-02,  3.4444e-02,  7.1030e-02,  7.0513e-02,\n",
       "           1.3448e-01, -4.5854e-02, -5.9574e-02,  3.0358e-02, -1.3677e-01,\n",
       "          -3.4449e-02, -1.3769e-01,  1.3192e-01, -2.4538e-02,  7.6019e-03,\n",
       "           1.4150e-01,  1.2385e-01, -4.0047e-02],\n",
       "         [ 5.9506e-02,  9.5608e-02, -1.2099e-01, -1.5002e-01, -1.6668e-01,\n",
       "           8.3329e-02,  1.5528e-01, -6.3345e-02,  1.3925e-01,  8.9852e-02,\n",
       "           6.7056e-02, -1.1949e-02, -1.6607e-01, -1.7245e-01,  1.6132e-01,\n",
       "          -5.6391e-02,  4.7675e-02,  2.4963e-02,  1.5553e-01, -1.4001e-01,\n",
       "          -8.1133e-02,  5.7209e-02,  1.3565e-01,  1.5186e-01, -2.8751e-02,\n",
       "           9.3498e-02, -2.5050e-02,  9.9572e-02, -4.7359e-02, -1.1166e-01,\n",
       "          -7.3558e-02,  7.8458e-02, -5.5873e-02],\n",
       "         [ 3.8121e-02,  1.4690e-01, -1.6936e-01, -7.0782e-02, -6.3722e-02,\n",
       "           1.3201e-01, -1.2769e-01,  8.0982e-02,  1.2419e-01,  1.2555e-01,\n",
       "           5.5888e-02, -1.4862e-01, -5.7374e-02,  8.5178e-02, -1.6264e-01,\n",
       "           1.0134e-01, -1.0112e-01,  5.2336e-02,  5.3391e-02, -1.6931e-01,\n",
       "          -9.5777e-02, -1.4001e-01, -6.2939e-02,  5.4955e-02,  5.6798e-02,\n",
       "           9.3739e-02,  2.5292e-02, -4.3218e-04, -6.9208e-04,  3.9830e-02,\n",
       "          -7.5436e-02, -3.2056e-02, -4.7186e-02],\n",
       "         [ 1.0822e-01, -9.4112e-02, -1.4452e-01, -1.3601e-01, -8.2010e-04,\n",
       "          -7.7029e-02, -7.9754e-03,  1.4135e-01,  5.7610e-02, -7.7887e-03,\n",
       "           1.1207e-01, -8.1458e-02, -8.8306e-02, -3.1488e-02, -1.4519e-01,\n",
       "           1.6691e-01,  4.4272e-02,  1.5961e-02, -1.5114e-01, -1.2130e-01,\n",
       "          -1.3717e-01, -1.7087e-01, -1.0215e-01, -1.5315e-01, -1.2065e-01,\n",
       "           4.1008e-03, -1.1375e-01, -5.4518e-02,  1.6153e-01, -4.3357e-02,\n",
       "           7.6948e-02,  1.6011e-01, -2.5009e-02],\n",
       "         [ 9.4802e-02,  1.3800e-01, -5.6244e-02, -6.0254e-02, -1.6064e-01,\n",
       "          -1.1580e-01, -1.5322e-01, -6.1846e-02, -9.6040e-02, -1.4646e-01,\n",
       "           6.1806e-02,  3.9591e-02, -6.6227e-02, -4.7389e-02,  2.3567e-02,\n",
       "           1.3447e-01,  9.8438e-02,  2.9627e-02, -9.6799e-03,  3.5682e-02,\n",
       "           1.6253e-02,  4.4049e-02, -3.8508e-02, -2.7474e-02, -5.1824e-02,\n",
       "           1.1658e-01, -7.0984e-02, -1.4605e-01, -3.5749e-03, -6.5764e-02,\n",
       "          -8.3461e-02,  1.2587e-01, -1.4511e-01],\n",
       "         [-1.0498e-01,  1.3508e-01,  1.5100e-01, -1.2096e-01,  1.2368e-01,\n",
       "          -1.5999e-01,  4.2360e-02,  8.3517e-03,  1.0674e-01,  1.4801e-01,\n",
       "          -9.9362e-03, -7.3071e-02, -1.4334e-01,  2.6603e-02, -6.2127e-02,\n",
       "          -1.2140e-01, -2.3960e-02, -3.6795e-02, -1.2705e-01,  5.7264e-03,\n",
       "          -1.0055e-01, -1.4485e-01, -6.3555e-02, -3.4788e-03,  1.4509e-03,\n",
       "          -3.1161e-02,  1.5654e-01,  6.5753e-02,  1.2338e-01, -1.5340e-01,\n",
       "           7.2618e-02,  8.1514e-02,  1.6197e-02],\n",
       "         [-6.6815e-02, -4.0154e-02,  9.8103e-02, -1.3476e-01, -7.7208e-02,\n",
       "          -1.5975e-01,  4.3616e-02, -8.2547e-02, -1.5510e-01, -1.1313e-01,\n",
       "           1.0001e-02,  9.7681e-02,  4.7338e-02, -5.3113e-03, -1.3087e-02,\n",
       "          -9.2559e-02, -1.8826e-02, -9.1179e-02,  8.1976e-02, -6.3441e-03,\n",
       "           1.1620e-01,  1.0200e-01,  2.9937e-02,  1.1252e-01, -4.8224e-02,\n",
       "          -6.6786e-02, -1.5842e-01,  8.5577e-02,  2.2365e-02,  1.3287e-01,\n",
       "           1.6416e-01, -3.8050e-02, -6.4823e-02],\n",
       "         [ 9.5906e-02,  1.4729e-01,  1.2498e-01,  1.3707e-01, -1.0089e-01,\n",
       "          -1.1730e-01, -3.1469e-02, -7.0281e-02,  8.3855e-02,  1.0955e-01,\n",
       "           1.6401e-01, -6.9536e-02, -5.0235e-02, -2.1762e-02, -6.3073e-03,\n",
       "          -5.7941e-03,  1.1979e-01, -1.5458e-01, -1.3230e-01, -7.4328e-02,\n",
       "           8.2611e-02, -6.1813e-02,  1.3875e-02,  2.5751e-02,  1.1009e-01,\n",
       "          -1.4442e-01, -4.7667e-02,  6.1449e-02, -5.3245e-02, -1.2055e-01,\n",
       "           6.4173e-02,  1.4783e-01, -5.7355e-02]], requires_grad=True),\n",
       " Parameter containing:\n",
       " tensor([ 0.0613, -0.0396,  0.0251,  0.0061, -0.1024,  0.1385,  0.0324, -0.0698,\n",
       "          0.0557,  0.1678,  0.1493, -0.0130, -0.0367,  0.1318,  0.1038,  0.0169,\n",
       "         -0.1374,  0.0269], requires_grad=True),\n",
       " Parameter containing:\n",
       " tensor([[ 0.1504, -0.0199, -0.0826,  0.1351,  0.1298,  0.1141,  0.2128,  0.1834,\n",
       "          -0.2287,  0.0840,  0.1109, -0.1252, -0.2350, -0.2136, -0.0202,  0.0815,\n",
       "          -0.0594, -0.1437],\n",
       "         [ 0.2265,  0.2135, -0.0206,  0.0135,  0.0065, -0.1339, -0.1813,  0.1745,\n",
       "          -0.1378, -0.1611, -0.1299,  0.0705, -0.1938, -0.0495, -0.0196,  0.0811,\n",
       "          -0.1772,  0.1032],\n",
       "         [ 0.0987,  0.1760,  0.1624, -0.1117,  0.0493,  0.1389,  0.1579,  0.0093,\n",
       "          -0.1535,  0.0037, -0.1701, -0.1908, -0.0962,  0.1875,  0.0887,  0.1279,\n",
       "          -0.1445,  0.1695],\n",
       "         [-0.1725,  0.1849,  0.1140,  0.0283,  0.1845,  0.0340, -0.1151, -0.1950,\n",
       "          -0.0597,  0.1003,  0.0116,  0.2041, -0.2139,  0.0236, -0.0942,  0.1508,\n",
       "          -0.0922,  0.0613]], requires_grad=True),\n",
       " Parameter containing:\n",
       " tensor([ 0.0229,  0.0412,  0.1222, -0.0042], requires_grad=True)]"
      ]
     },
     "execution_count": 68,
     "metadata": {},
     "output_type": "execute_result"
    }
   ],
   "source": [
    "list(model.parameters())"
   ]
  },
  {
   "cell_type": "code",
   "execution_count": 69,
   "id": "2decb14b-1991-455d-8278-2f28f086d634",
   "metadata": {},
   "outputs": [
    {
     "name": "stdout",
     "output_type": "stream",
     "text": [
      "Num Parameters: 4\n",
      "Layer 1: Weights : torch.Size([18, 33])\n",
      "Layer 1: Bias    : torch.Size([18])\n",
      "Layer 2: Weights : torch.Size([4, 18])\n",
      "Layer 2: Bias    : torch.Size([4])\n"
     ]
    }
   ],
   "source": [
    "print (f'Num Parameters: {len(list(model.parameters()))}')  \n",
    "print (f'Layer 1: Weights : {list(model.parameters())[0].shape}')\n",
    "print (f'Layer 1: Bias    : {list(model.parameters())[1].shape}')\n",
    "print (f'Layer 2: Weights : {list(model.parameters())[2].shape}')\n",
    "print (f'Layer 2: Bias    : {list(model.parameters())[3].shape}')"
   ]
  },
  {
   "cell_type": "code",
   "execution_count": 70,
   "id": "ddfbe0ad",
   "metadata": {},
   "outputs": [],
   "source": [
    "train_X = torch.tensor(X_train, dtype=torch.float32, device=device)\n",
    "train_y = torch.tensor(y_train, dtype=torch.int64, device=device)\n",
    "\n",
    "test_X = torch.tensor(X_test, dtype=torch.float32, device=device)\n",
    "test_y = torch.tensor(y_test, dtype=torch.int64, device=device)\n",
    "\n"
   ]
  },
  {
   "cell_type": "code",
   "execution_count": 71,
   "id": "5e81d9f0",
   "metadata": {},
   "outputs": [
    {
     "data": {
      "text/plain": [
       "(torch.Size([1, 33]), torch.Size([33]))"
      ]
     },
     "execution_count": 71,
     "metadata": {},
     "output_type": "execute_result"
    }
   ],
   "source": [
    "train_X[:1].shape, train_X[0].shape"
   ]
  },
  {
   "cell_type": "markdown",
   "id": "bf927153",
   "metadata": {},
   "source": [
    "### Use train_x[:1] to keep dimensions rather than train_X[0]"
   ]
  },
  {
   "cell_type": "markdown",
   "id": "f087d8ee",
   "metadata": {},
   "source": [
    "## Making predictions"
   ]
  },
  {
   "cell_type": "code",
   "execution_count": 72,
   "metadata": {},
   "outputs": [
    {
     "data": {
      "text/plain": [
       "array([[-0.40813166, -0.18573728,  0.13504392, -0.10311078]],\n",
       "      dtype=float32)"
      ]
     },
     "execution_count": 72,
     "metadata": {},
     "output_type": "execute_result"
    }
   ],
   "source": [
    "predict_prob = model(train_X[:1]) # make predictions \n",
    "predict_prob.detach().cpu().numpy()"
   ]
  },
  {
   "cell_type": "code",
   "execution_count": 73,
   "id": "a8243781",
   "metadata": {},
   "outputs": [
    {
     "data": {
      "text/plain": [
       "3"
      ]
     },
     "execution_count": 73,
     "metadata": {},
     "output_type": "execute_result"
    }
   ],
   "source": [
    "y_train[0]"
   ]
  },
  {
   "cell_type": "markdown",
   "id": "9671e96f",
   "metadata": {},
   "source": [
    "Obviously its incorrect as we have not trained the model. Lets train the model."
   ]
  },
  {
   "cell_type": "code",
   "execution_count": 89,
   "id": "b770cdbe",
   "metadata": {},
   "outputs": [
    {
     "ename": "NameError",
     "evalue": "name 'train_loader' is not defined",
     "output_type": "error",
     "traceback": [
      "\u001b[1;31m---------------------------------------------------------------------------\u001b[0m",
      "\u001b[1;31mNameError\u001b[0m                                 Traceback (most recent call last)",
      "Cell \u001b[1;32mIn[89], line 11\u001b[0m\n\u001b[0;32m      8\u001b[0m \u001b[38;5;28;01mfor\u001b[39;00m epoch \u001b[38;5;129;01min\u001b[39;00m \u001b[38;5;28mrange\u001b[39m (EPOCHS):\n\u001b[0;32m     10\u001b[0m     model\u001b[38;5;241m.\u001b[39mtrain() \u001b[38;5;66;03m# Set the model in training mode\u001b[39;00m\n\u001b[1;32m---> 11\u001b[0m     \u001b[38;5;28;01mfor\u001b[39;00m batch_idx, (train_X, train_y) \u001b[38;5;129;01min\u001b[39;00m \u001b[38;5;28menumerate\u001b[39m (train_loader):\n\u001b[0;32m     12\u001b[0m         train_X, train_y \u001b[38;5;241m=\u001b[39m train_X\u001b[38;5;241m.\u001b[39mto(device), train_y\u001b[38;5;241m.\u001b[39mto(device)\n\u001b[0;32m     13\u001b[0m         predict_prob \u001b[38;5;241m=\u001b[39m model(train_X)  \u001b[38;5;66;03m# make predictions\u001b[39;00m\n",
      "\u001b[1;31mNameError\u001b[0m: name 'train_loader' is not defined"
     ]
    }
   ],
   "source": [
    "# Loss Function\n",
    "loss_fn = nn.CrossEntropyLoss()\n",
    "\n",
    "# Optimizers\n",
    "optimizer = torch.optim.Adam(model.parameters(), lr = ALPHA)\n",
    "\n",
    "# Iterations\n",
    "for epoch in range (EPOCHS):\n",
    "    \n",
    "    model.train() # Set the model in training mode\n",
    "    for batch_idx, (train_X, train_y) in enumerate (train_loader):\n",
    "        train_X, train_y = train_X.to(device), train_y.to(device)\n",
    "        predict_prob = model(train_X)  # make predictions\n",
    "        curr_loss = loss_fn(predict_prob, train_y)  # calculate\n",
    " \n",
    "\n",
    "        ###---------------\n",
    "        ### Back prop step\n",
    "        ###---------------\n",
    "        optimizer.zero_grad() \n",
    "        curr_loss.backward()\n",
    "        optimizer.step()"
   ]
  },
  {
   "cell_type": "code",
   "execution_count": 75,
   "id": "8684453e",
   "metadata": {},
   "outputs": [
    {
     "data": {
      "text/plain": [
       "array([[-2.0880377, -3.5062973,  1.9967403,  5.2325616]], dtype=float32)"
      ]
     },
     "execution_count": 75,
     "metadata": {},
     "output_type": "execute_result"
    }
   ],
   "source": [
    "# Lets see prediction for first row\n",
    "predict_prob = model(train_X[:1]) # make predictions \n",
    "predict_prob.detach().cpu().numpy()"
   ]
  },
  {
   "cell_type": "code",
   "execution_count": 76,
   "id": "a9a8e90f",
   "metadata": {},
   "outputs": [
    {
     "data": {
      "text/plain": [
       "(3, 3)"
      ]
     },
     "execution_count": 76,
     "metadata": {},
     "output_type": "execute_result"
    }
   ],
   "source": [
    "predict_prob.argmax().item(), train_y[0].item()"
   ]
  },
  {
   "cell_type": "markdown",
   "id": "c2c0e22b",
   "metadata": {},
   "source": [
    "! Voila prediction matches with the ground truth.\n",
    "\n",
    "Lets add some tracking too."
   ]
  },
  {
   "cell_type": "code",
   "execution_count": 77,
   "id": "ca5bd54e",
   "metadata": {},
   "outputs": [],
   "source": [
    "\n",
    "del model\n",
    "\n",
    "model = nn.Sequential(\n",
    "    nn.Linear( input_dim, 18),\n",
    "    nn.Tanh(),\n",
    "    nn.Linear( 18, 4)\n",
    ").to(device=device)"
   ]
  },
  {
   "cell_type": "code",
   "execution_count": 78,
   "id": "9ad88c01",
   "metadata": {},
   "outputs": [
    {
     "name": "stdout",
     "output_type": "stream",
     "text": [
      "Epoch :    0/ 2001 --- Loss: 1.35766/1.34192 | Acc 0.39368/0.40606\n",
      "Epoch : 1000/ 2001 --- Loss: 0.29407/0.30232 | Acc 0.87883/0.86777\n",
      "Epoch : 2000/ 2001 --- Loss: 0.27246/0.29324 | Acc 0.88868/0.87796\n"
     ]
    }
   ],
   "source": [
    "# Loss Function\n",
    "loss_fn = nn.CrossEntropyLoss()\n",
    "\n",
    "# Optimizers\n",
    "optimizer = torch.optim.Adam(model.parameters(), lr = ALPHA)\n",
    "\n",
    "# Some lists to collect data\n",
    "loss = []\n",
    "tloss = []\n",
    "n_epoch = []\n",
    "acc = []\n",
    "tacc = []\n",
    "\n",
    "# Iterations\n",
    "for epoch in range (EPOCHS):\n",
    "    \n",
    "    model.train() # Set the model in training mode\n",
    "    \n",
    "    predict_prob = model(train_X) # make predictions\n",
    "    \n",
    "    curr_loss = loss_fn(predict_prob, train_y) # calculate loss\n",
    "\n",
    "    ###---------------\n",
    "    ### Back prop step\n",
    "    ###---------------\n",
    "    optimizer.zero_grad() \n",
    "    curr_loss.backward()\n",
    "    optimizer.step()\n",
    "    \n",
    "    loss.append ( curr_loss.data.item() ) # append to loss list\n",
    "    \n",
    "    _, y_pred = torch.max(predict_prob, 1) # get predicted class from the probabilities\n",
    "        \n",
    "    curr_acc = accuracy_score( y_train, y_pred.data.cpu()) # move to CPU \n",
    "    \n",
    "    acc.append(curr_acc) # append to accuracy list\n",
    "    \n",
    "    model.eval() # evaluation mode, prevent from learning\n",
    "    \n",
    "    predict_prob_tst = model(test_X) # make predictions on test data\n",
    "    \n",
    "    tcurr_loss = loss_fn( predict_prob_tst, test_y)\n",
    "    \n",
    "    tloss.append( tcurr_loss.data.item())  # append to loss list\n",
    "    \n",
    "    _, y_pred = torch.max(predict_prob_tst, 1) # get predicted class from the probabilities\n",
    "    \n",
    "    tcurr_acc = accuracy_score( y_test, y_pred.data.cpu()) # move to CPU \n",
    "    \n",
    "    tacc.append(tcurr_acc) # append to accuracy list\n",
    "    \n",
    "    n_epoch.append(epoch)\n",
    "    \n",
    "        \n",
    "    if epoch % 1000 == 0:\n",
    "        fmtStr = 'Epoch :{:5d}/{:5d} --- Loss: {:.5f}/{:.5f} | Acc {:.5f}/{:.5f}'\n",
    "        \n",
    "        print (fmtStr.format(epoch, EPOCHS,\n",
    "                             curr_loss.data.item(),\n",
    "                             tcurr_loss.data.item(),  \n",
    "                             curr_acc, \n",
    "                             tcurr_acc))"
   ]
  },
  {
   "cell_type": "code",
   "execution_count": 79,
   "id": "3f3c77ef",
   "metadata": {},
   "outputs": [],
   "source": [
    "loss_df = pd.DataFrame({'epoch': n_epoch,\n",
    "                       'loss' : loss,\n",
    "                       'test_loss' : tloss,\n",
    "                       'acc' : acc,\n",
    "                       'test_acc': tacc})"
   ]
  },
  {
   "cell_type": "code",
   "execution_count": 80,
   "id": "98ecb46d",
   "metadata": {},
   "outputs": [
    {
     "data": {
      "text/html": [
       "<div>\n",
       "<style scoped>\n",
       "    .dataframe tbody tr th:only-of-type {\n",
       "        vertical-align: middle;\n",
       "    }\n",
       "\n",
       "    .dataframe tbody tr th {\n",
       "        vertical-align: top;\n",
       "    }\n",
       "\n",
       "    .dataframe thead th {\n",
       "        text-align: right;\n",
       "    }\n",
       "</style>\n",
       "<table border=\"1\" class=\"dataframe\">\n",
       "  <thead>\n",
       "    <tr style=\"text-align: right;\">\n",
       "      <th></th>\n",
       "      <th>epoch</th>\n",
       "      <th>loss</th>\n",
       "      <th>test_loss</th>\n",
       "      <th>acc</th>\n",
       "      <th>test_acc</th>\n",
       "    </tr>\n",
       "  </thead>\n",
       "  <tbody>\n",
       "    <tr>\n",
       "      <th>0</th>\n",
       "      <td>0</td>\n",
       "      <td>1.357661</td>\n",
       "      <td>1.341921</td>\n",
       "      <td>0.393676</td>\n",
       "      <td>0.406061</td>\n",
       "    </tr>\n",
       "    <tr>\n",
       "      <th>1</th>\n",
       "      <td>1</td>\n",
       "      <td>1.339827</td>\n",
       "      <td>1.324474</td>\n",
       "      <td>0.403251</td>\n",
       "      <td>0.414050</td>\n",
       "    </tr>\n",
       "    <tr>\n",
       "      <th>2</th>\n",
       "      <td>2</td>\n",
       "      <td>1.322430</td>\n",
       "      <td>1.307462</td>\n",
       "      <td>0.409864</td>\n",
       "      <td>0.422039</td>\n",
       "    </tr>\n",
       "    <tr>\n",
       "      <th>3</th>\n",
       "      <td>3</td>\n",
       "      <td>1.305466</td>\n",
       "      <td>1.290874</td>\n",
       "      <td>0.415031</td>\n",
       "      <td>0.429201</td>\n",
       "    </tr>\n",
       "    <tr>\n",
       "      <th>4</th>\n",
       "      <td>4</td>\n",
       "      <td>1.288928</td>\n",
       "      <td>1.274711</td>\n",
       "      <td>0.420473</td>\n",
       "      <td>0.435813</td>\n",
       "    </tr>\n",
       "  </tbody>\n",
       "</table>\n",
       "</div>"
      ],
      "text/plain": [
       "   epoch      loss  test_loss       acc  test_acc\n",
       "0      0  1.357661   1.341921  0.393676  0.406061\n",
       "1      1  1.339827   1.324474  0.403251  0.414050\n",
       "2      2  1.322430   1.307462  0.409864  0.422039\n",
       "3      3  1.305466   1.290874  0.415031  0.429201\n",
       "4      4  1.288928   1.274711  0.420473  0.435813"
      ]
     },
     "execution_count": 80,
     "metadata": {},
     "output_type": "execute_result"
    }
   ],
   "source": [
    "loss_df.head()"
   ]
  },
  {
   "cell_type": "code",
   "execution_count": 81,
   "id": "c8ddb94d",
   "metadata": {},
   "outputs": [
    {
     "data": {
      "image/png": "[encoded data removed]",
      "text/plain": [
       "<Figure size 1500x600 with 2 Axes>"
      ]
     },
     "metadata": {},
     "output_type": "display_data"
    }
   ],
   "source": [
    "fn_plot_torch_hist(loss_df)"
   ]
  },
  {
   "cell_type": "markdown",
   "id": "5b26b8e9",
   "metadata": {},
   "source": [
    "## Performance on Train Data"
   ]
  },
  {
   "cell_type": "code",
   "execution_count": 82,
   "id": "666863e4",
   "metadata": {},
   "outputs": [
    {
     "data": {
      "text/plain": [
       "array([3, 2, 2, ..., 0, 0, 0], dtype=int64)"
      ]
     },
     "execution_count": 82,
     "metadata": {},
     "output_type": "execute_result"
    }
   ],
   "source": [
    "outputs = model(train_X)\n",
    "\n",
    "y_pred = torch.argmax(outputs, dim = 1).cpu().numpy()\n",
    "\n",
    "y_pred"
   ]
  },
  {
   "cell_type": "code",
   "execution_count": 83,
   "id": "c7bc2e03",
   "metadata": {},
   "outputs": [
    {
     "name": "stdout",
     "output_type": "stream",
     "text": [
      "              precision    recall  f1-score   support\n",
      "\n",
      "           0       1.00      1.00      1.00      1620\n",
      "           1       0.92      0.93      0.92      4693\n",
      "           2       0.84      0.87      0.86      5470\n",
      "           3       0.86      0.79      0.83      2734\n",
      "\n",
      "    accuracy                           0.89     14517\n",
      "   macro avg       0.91      0.90      0.90     14517\n",
      "weighted avg       0.89      0.89      0.89     14517\n",
      "\n"
     ]
    }
   ],
   "source": [
    "print(classification_report(train_y.cpu().numpy(), y_pred ))"
   ]
  },
  {
   "cell_type": "code",
   "execution_count": 86,
   "id": "04fb6c22",
   "metadata": {},
   "outputs": [
    {
     "data": {
      "image/png": "[encoded data removed]",
      "text/plain": [
       "<Figure size 600x600 with 1 Axes>"
      ]
     },
     "metadata": {},
     "output_type": "display_data"
    }
   ],
   "source": [
    "fn_plot_confusion_matrix(train_y.numpy(), y_pred, labels=class_labels)"
   ]
  },
  {
   "cell_type": "markdown",
   "id": "e1f24be9",
   "metadata": {},
   "source": [
    "## Performance on test data"
   ]
  },
  {
   "cell_type": "code",
   "execution_count": 87,
   "id": "64781c86",
   "metadata": {},
   "outputs": [
    {
     "name": "stdout",
     "output_type": "stream",
     "text": [
      "              precision    recall  f1-score   support\n",
      "\n",
      "           0       1.00      1.00      1.00       405\n",
      "           1       0.92      0.92      0.92      1173\n",
      "           2       0.82      0.87      0.85      1368\n",
      "           3       0.84      0.74      0.79       684\n",
      "\n",
      "    accuracy                           0.88      3630\n",
      "   macro avg       0.90      0.88      0.89      3630\n",
      "weighted avg       0.88      0.88      0.88      3630\n",
      "\n"
     ]
    }
   ],
   "source": [
    "outputs = model(test_X)\n",
    "\n",
    "y_pred = outputs.argmax(dim=1).cpu().numpy()\n",
    "\n",
    "print(classification_report(test_y.cpu().numpy(), y_pred ))"
   ]
  },
  {
   "cell_type": "code",
   "execution_count": 88,
   "id": "828570ec",
   "metadata": {},
   "outputs": [
    {
     "data": {
      "image/png": "[encoded data removed]",
      "text/plain": [
       "<Figure size 600x600 with 1 Axes>"
      ]
     },
     "metadata": {},
     "output_type": "display_data"
    }
   ],
   "source": [
    "fn_plot_confusion_matrix(test_y.cpu().numpy(), y_pred, labels=class_labels)"
   ]
  },
  {
   "cell_type": "code",
   "execution_count": null,
   "id": "29fa3845",
   "metadata": {},
   "outputs": [],
   "source": []
  }
 ],
 "metadata": {
  "kernelspec": {
   "display_name": "Python 3 (ipykernel)",
   "language": "python",
   "name": "python3"
  },
  "language_info": {
   "codemirror_mode": {
    "name": "ipython",
    "version": 3
   },
   "file_extension": ".py",
   "mimetype": "text/x-python",
   "name": "python",
   "nbconvert_exporter": "python",
   "pygments_lexer": "ipython3",
   "version": "3.11.7"
  }
 },
 "nbformat": 4,
 "nbformat_minor": 5
}
