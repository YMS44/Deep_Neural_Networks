{
 "cells": [
  {
   "cell_type": "code",
   "execution_count": 1,
   "metadata": {},
   "outputs": [],
   "source": [
    "#!/usr/bin/env python\n",
    "# -*- coding: utf-8 -*-"
   ]
  },
  {
   "cell_type": "markdown",
   "metadata": {},
   "source": [
    "# Deep Neural Networks \n",
    "## Session 08a\n",
    "\n",
    "## Working with Tensorflow \n",
    "- One hidden layer\n",
    "- ${Swish}$ activation function\n",
    "- Adam\n",
    "- Multi-class output\n",
    "- FIFA dataset\n",
    "\n",
    "<img src='../../prasami_images/prasami_color_tutorials_small.png' width='400' alt=\"By Pramod Sharma : pramod.sharma@prasami.com\" align=\"left\"/>"
   ]
  },
  {
   "cell_type": "code",
   "execution_count": 2,
   "metadata": {},
   "outputs": [
    {
     "name": "stdout",
     "output_type": "stream",
     "text": [
      "WARNING:tensorflow:From c:\\Users\\Administrator.DAI-PC2\\anaconda3\\Lib\\site-packages\\keras\\src\\losses.py:2976: The name tf.losses.sparse_softmax_cross_entropy is deprecated. Please use tf.compat.v1.losses.sparse_softmax_cross_entropy instead.\n",
      "\n"
     ]
    }
   ],
   "source": [
    "###-----------------\n",
    "### Import Libraries\n",
    "###-----------------\n",
    "\n",
    "import os\n",
    "import sys\n",
    "import numpy as np\n",
    "import pandas as pd\n",
    "\n",
    "import matplotlib.pyplot as plt\n",
    "from time import time\n",
    "from sklearn.model_selection import train_test_split\n",
    "from sklearn.metrics import accuracy_score, confusion_matrix, classification_report, ConfusionMatrixDisplay\n",
    "from sklearn.preprocessing import StandardScaler\n",
    "\n",
    "import tensorflow as tf\n",
    "\n",
    "# from utils.helper import fn_plot_tf_hist, fn_plot_confusion_matrix"
   ]
  },
  {
   "cell_type": "code",
   "execution_count": 3,
   "metadata": {},
   "outputs": [],
   "source": [
    "###----------------------\n",
    "### Some basic parameters\n",
    "###----------------------\n",
    "\n",
    "inpDir = '../../input' # location where input data is stored\n",
    "outDir = '../output' # location to store outputs\n",
    "modelDir = '../models' # location of the images\n",
    "subDir = 'fifa_2019'\n",
    "\n",
    "RANDOM_STATE = 24 # for initialization ----- REMEMBER: to remove at the time of promotion to production\n",
    "np.random.seed(RANDOM_STATE) # Set Random Seed for reproducible  results\n",
    "tf.random.set_seed(RANDOM_STATE) # setting for Tensorflow as well\n",
    "\n",
    "\n",
    "EPOCHS = 101 # number of epochs\n",
    "ALPHA = 0.001 # learning rate\n",
    "\n",
    "BATCH_SIZE = 32\n",
    "\n",
    "TEST_SIZE = 0.2\n",
    "\n",
    "# Set parameters for decoration of plots\n",
    "params = {'legend.fontsize' : 'medium',\n",
    "          'figure.figsize'  : (15,15),\n",
    "          'axes.labelsize'  : 'large',\n",
    "          'axes.titlesize'  :'large',\n",
    "          'xtick.labelsize' :'medium',\n",
    "          'ytick.labelsize' :'medium',\n",
    "         }\n",
    "\n",
    "CMAP = plt.cm.coolwarm\n",
    "\n",
    "plt.rcParams.update(params) # update rcParams\n",
    "\n",
    "plt.style.use('seaborn-v0_8-darkgrid') # plt.style.use('ggplot')"
   ]
  },
  {
   "cell_type": "code",
   "execution_count": 4,
   "metadata": {},
   "outputs": [],
   "source": [
    "\n",
    "###----------------------\n",
    "### Plot confusion matrix\n",
    "###----------------------\n",
    "def fn_plot_confusion_matrix(y_true, y_pred, labels):\n",
    "    '''\n",
    "    Args:\n",
    "        y_true: Ground Truth \n",
    "        y_pred : Predictions\n",
    "        labels : dictonary \n",
    "                  {0: 'Goal Keeper', \n",
    "                  1: 'Defender', \n",
    "                  2: 'Mid-Fielder', \n",
    "                  3: 'Forward'}\n",
    "    \n",
    "    '''\n",
    "    \n",
    "    cm  = confusion_matrix(y_true, y_pred)\n",
    "    \n",
    "    disp = ConfusionMatrixDisplay(confusion_matrix=cm,\n",
    "                                  display_labels=labels.values())\n",
    "    \n",
    "    fig, ax = plt.subplots(figsize = (6,6))\n",
    "    \n",
    "    disp.plot(ax = ax, cmap = 'Blues', xticks_rotation = 'vertical', colorbar=False)\n",
    "    # Disable the grid\n",
    "    ax.grid(False)\n",
    "\n",
    "    plt.show();"
   ]
  },
  {
   "cell_type": "code",
   "execution_count": 5,
   "metadata": {},
   "outputs": [],
   "source": [
    "###------------------------------------------------\n",
    "### Plot Loss Curve using Tensorflow history object\n",
    "###------------------------------------------------\n",
    "def fn_plot_tf_hist(hist_df):\n",
    "    \n",
    "    '''\n",
    "    Args:\n",
    "        hist_df: a dataframe with following ccolumns\n",
    "            column 0: loss\n",
    "            column 1: accuracy\n",
    "            column 2: val_loss\n",
    "            column 3: val_accuracy\n",
    "            While plotting columns are accessed by index \n",
    "            so that even if the column names are different it will not throw exceptions.\n",
    "    '''\n",
    "        \n",
    "    fig, axes = plt.subplots(1,2 , figsize = (15,6))\n",
    "\n",
    "    # properties  matplotlib.patch.Patch \n",
    "    props = dict(boxstyle='round', facecolor='aqua', alpha=0.4)\n",
    "    facecolor = 'cyan'\n",
    "    fontsize=12\n",
    "    CMAP = plt.cm.coolwarm\n",
    "    \n",
    "    # Get columns by index to eliminate any column naming error\n",
    "    y1 = hist_df.columns[0]\n",
    "    y2 = hist_df.columns[1]\n",
    "    y3 = hist_df.columns[2]\n",
    "    y4 = hist_df.columns[3]\n",
    "\n",
    "    # Where was min loss\n",
    "    best = hist_df[hist_df[y3] == hist_df[y3].min()]\n",
    "    \n",
    "    ax = axes[0]\n",
    "\n",
    "    hist_df.plot(y = [y1,y3], ax = ax, colormap=CMAP)\n",
    "\n",
    "\n",
    "    # little beautification\n",
    "    txtFmt = \"Loss: \\n  train: {:6.4f}\\n   test: {:6.4f}\"\n",
    "    txtstr = txtFmt.format(hist_df.iloc[-1][y1],\n",
    "                           hist_df.iloc[-1][y3]) #text to plot\n",
    "    \n",
    "    # place a text box in upper middle in axes coords\n",
    "    ax.text(0.3, 0.95, txtstr, transform=ax.transAxes, fontsize=fontsize,\n",
    "            verticalalignment='top', bbox=props)\n",
    "    \n",
    "    # calculate offset for arroe\n",
    "    y_min = min(hist_df[y1].min(), hist_df[y3].min())\n",
    "    y_max = max(hist_df[y1].max(), hist_df[y3].max())\n",
    "    offset = (y_max-y_min)/10.0\n",
    "    \n",
    "    # Mark arrow at lowest\n",
    "    ax.annotate(f'Min: {best[y3].to_numpy()[0]:6.4f}', # text to print\n",
    "                xy=(best.index.to_numpy(), best[y3].to_numpy()[0]), # Arrow start\n",
    "                xytext=(best.index.to_numpy(), best[y3].to_numpy()[0] + offset), # location of text \n",
    "                fontsize=fontsize, va='bottom', ha='right',bbox=props, # beautification of text\n",
    "                arrowprops=dict(facecolor=facecolor, shrink=0.05)) # arrow\n",
    "\n",
    "    # Draw vertical line at best value\n",
    "    ax.axvline(x = best.index.to_numpy(), color = 'green', linestyle='-.', lw = 3);\n",
    "\n",
    "    ax.set_xlabel(\"Epochs\")\n",
    "    ax.set_ylabel(y1.capitalize())\n",
    "    ax.set_title('Errors')\n",
    "    ax.grid();\n",
    "    ax.legend(loc = 'upper left') # model legend to upper left\n",
    "\n",
    "    ax = axes[1]\n",
    "\n",
    "    hist_df.plot( y = [y2, y4], ax = ax, colormap=CMAP)\n",
    "    \n",
    "    # little beautification\n",
    "    txtFmt = \"Accuracy: \\n  train: {:6.4f}\\n  test:  {:6.4f}\"\n",
    "    txtstr = txtFmt.format(hist_df.iloc[-1][y2],\n",
    "                           hist_df.iloc[-1][y4]) #text to plot\n",
    "\n",
    "    # place a text box in upper middle in axes coords\n",
    "    ax.text(0.3, 0.2, txtstr, transform=ax.transAxes, fontsize=fontsize,\n",
    "            verticalalignment='top', bbox=props)\n",
    "\n",
    "    # calculate offset for arroe\n",
    "    y_min = min(hist_df[y2].min(), hist_df[y4].min())\n",
    "    y_max = max(hist_df[y2].max(), hist_df[y4].max())\n",
    "    offset = (y_max-y_min)/10.0\n",
    "\n",
    "    # Mark arrow at lowest\n",
    "    ax.annotate(f'Best: {best[y4].to_numpy()[0]:6.4f}', # text to print\n",
    "                xy=(best.index.to_numpy(), best[y4].to_numpy()[0]), # Arrow start\n",
    "                xytext=(best.index.to_numpy(), best[y4].to_numpy()[0]-offset), # location of text \n",
    "                fontsize=fontsize, va='bottom', ha='right',bbox=props, # beautification of text\n",
    "                arrowprops=dict(facecolor=facecolor, shrink=0.05)) # arrow\n",
    "    \n",
    "    \n",
    "    # Draw vertical line at best value\n",
    "    ax.axvline(x = best.index.to_numpy(), color = 'green', linestyle='-.', lw = 3);\n",
    "\n",
    "    ax.set_xlabel(\"Epochs\")\n",
    "    ax.set_ylabel(y2.capitalize())\n",
    "    ax.grid()\n",
    "    ax.legend(loc = 'lower left')\n",
    "    \n",
    "    plt.tight_layout()"
   ]
  },
  {
   "cell_type": "markdown",
   "metadata": {},
   "source": [
    "## Basic Hygiene"
   ]
  },
  {
   "cell_type": "code",
   "execution_count": 6,
   "metadata": {},
   "outputs": [],
   "source": [
    "# Check if all directories are present\n",
    "if not os.path.exists(os.path.join(outDir)):\n",
    "    os.makedirs(os.path.join(outDir))\n",
    "    print ('Created {} directory'.format(outDir))\n",
    "\n",
    "if not os.path.exists(os.path.join(modelDir, subDir)):\n",
    "    os.makedirs(os.path.join(modelDir, subDir))\n",
    "    print ('Created {} directory'.format(os.path.join(modelDir, subDir)))\n",
    "    "
   ]
  },
  {
   "cell_type": "code",
   "execution_count": 7,
   "metadata": {},
   "outputs": [],
   "source": [
    "### Settings so that Tensorflow can not Hog all the GPU memory\n",
    "physical_devices = tf.config.list_physical_devices('GPU') \n",
    "\n",
    "if len(physical_devices) > 0:\n",
    "    tf.config.experimental.set_memory_growth(physical_devices[0], True)"
   ]
  },
  {
   "cell_type": "markdown",
   "metadata": {},
   "source": [
    "## Read FIFA 2019 data set"
   ]
  },
  {
   "cell_type": "code",
   "execution_count": 8,
   "metadata": {},
   "outputs": [
    {
     "data": {
      "text/plain": [
       "(18207, 89)"
      ]
     },
     "execution_count": 8,
     "metadata": {},
     "output_type": "execute_result"
    }
   ],
   "source": [
    "data_df = pd.read_csv('fifa_2019.csv')\n",
    "data_df.shape"
   ]
  },
  {
   "cell_type": "code",
   "execution_count": 9,
   "metadata": {},
   "outputs": [
    {
     "data": {
      "text/html": [
       "<div>\n",
       "<style scoped>\n",
       "    .dataframe tbody tr th:only-of-type {\n",
       "        vertical-align: middle;\n",
       "    }\n",
       "\n",
       "    .dataframe tbody tr th {\n",
       "        vertical-align: top;\n",
       "    }\n",
       "\n",
       "    .dataframe thead th {\n",
       "        text-align: right;\n",
       "    }\n",
       "</style>\n",
       "<table border=\"1\" class=\"dataframe\">\n",
       "  <thead>\n",
       "    <tr style=\"text-align: right;\">\n",
       "      <th></th>\n",
       "      <th>Unnamed: 0</th>\n",
       "      <th>ID</th>\n",
       "      <th>Name</th>\n",
       "      <th>Age</th>\n",
       "      <th>Photo</th>\n",
       "      <th>Nationality</th>\n",
       "      <th>Flag</th>\n",
       "      <th>Overall</th>\n",
       "      <th>Potential</th>\n",
       "      <th>Club</th>\n",
       "      <th>...</th>\n",
       "      <th>Composure</th>\n",
       "      <th>Marking</th>\n",
       "      <th>StandingTackle</th>\n",
       "      <th>SlidingTackle</th>\n",
       "      <th>GKDiving</th>\n",
       "      <th>GKHandling</th>\n",
       "      <th>GKKicking</th>\n",
       "      <th>GKPositioning</th>\n",
       "      <th>GKReflexes</th>\n",
       "      <th>Release Clause</th>\n",
       "    </tr>\n",
       "  </thead>\n",
       "  <tbody>\n",
       "    <tr>\n",
       "      <th>0</th>\n",
       "      <td>0</td>\n",
       "      <td>158023</td>\n",
       "      <td>L. Messi</td>\n",
       "      <td>31</td>\n",
       "      <td>https://cdn.sofifa.org/players/4/19/158023.png</td>\n",
       "      <td>Argentina</td>\n",
       "      <td>https://cdn.sofifa.org/flags/52.png</td>\n",
       "      <td>94</td>\n",
       "      <td>94</td>\n",
       "      <td>FC Barcelona</td>\n",
       "      <td>...</td>\n",
       "      <td>96.0</td>\n",
       "      <td>33.0</td>\n",
       "      <td>28.0</td>\n",
       "      <td>26.0</td>\n",
       "      <td>6.0</td>\n",
       "      <td>11.0</td>\n",
       "      <td>15.0</td>\n",
       "      <td>14.0</td>\n",
       "      <td>8.0</td>\n",
       "      <td>€226.5M</td>\n",
       "    </tr>\n",
       "    <tr>\n",
       "      <th>1</th>\n",
       "      <td>1</td>\n",
       "      <td>20801</td>\n",
       "      <td>Cristiano Ronaldo</td>\n",
       "      <td>33</td>\n",
       "      <td>https://cdn.sofifa.org/players/4/19/20801.png</td>\n",
       "      <td>Portugal</td>\n",
       "      <td>https://cdn.sofifa.org/flags/38.png</td>\n",
       "      <td>94</td>\n",
       "      <td>94</td>\n",
       "      <td>Juventus</td>\n",
       "      <td>...</td>\n",
       "      <td>95.0</td>\n",
       "      <td>28.0</td>\n",
       "      <td>31.0</td>\n",
       "      <td>23.0</td>\n",
       "      <td>7.0</td>\n",
       "      <td>11.0</td>\n",
       "      <td>15.0</td>\n",
       "      <td>14.0</td>\n",
       "      <td>11.0</td>\n",
       "      <td>€127.1M</td>\n",
       "    </tr>\n",
       "    <tr>\n",
       "      <th>2</th>\n",
       "      <td>2</td>\n",
       "      <td>190871</td>\n",
       "      <td>Neymar Jr</td>\n",
       "      <td>26</td>\n",
       "      <td>https://cdn.sofifa.org/players/4/19/190871.png</td>\n",
       "      <td>Brazil</td>\n",
       "      <td>https://cdn.sofifa.org/flags/54.png</td>\n",
       "      <td>92</td>\n",
       "      <td>93</td>\n",
       "      <td>Paris Saint-Germain</td>\n",
       "      <td>...</td>\n",
       "      <td>94.0</td>\n",
       "      <td>27.0</td>\n",
       "      <td>24.0</td>\n",
       "      <td>33.0</td>\n",
       "      <td>9.0</td>\n",
       "      <td>9.0</td>\n",
       "      <td>15.0</td>\n",
       "      <td>15.0</td>\n",
       "      <td>11.0</td>\n",
       "      <td>€228.1M</td>\n",
       "    </tr>\n",
       "    <tr>\n",
       "      <th>3</th>\n",
       "      <td>3</td>\n",
       "      <td>193080</td>\n",
       "      <td>De Gea</td>\n",
       "      <td>27</td>\n",
       "      <td>https://cdn.sofifa.org/players/4/19/193080.png</td>\n",
       "      <td>Spain</td>\n",
       "      <td>https://cdn.sofifa.org/flags/45.png</td>\n",
       "      <td>91</td>\n",
       "      <td>93</td>\n",
       "      <td>Manchester United</td>\n",
       "      <td>...</td>\n",
       "      <td>68.0</td>\n",
       "      <td>15.0</td>\n",
       "      <td>21.0</td>\n",
       "      <td>13.0</td>\n",
       "      <td>90.0</td>\n",
       "      <td>85.0</td>\n",
       "      <td>87.0</td>\n",
       "      <td>88.0</td>\n",
       "      <td>94.0</td>\n",
       "      <td>€138.6M</td>\n",
       "    </tr>\n",
       "    <tr>\n",
       "      <th>4</th>\n",
       "      <td>4</td>\n",
       "      <td>192985</td>\n",
       "      <td>K. De Bruyne</td>\n",
       "      <td>27</td>\n",
       "      <td>https://cdn.sofifa.org/players/4/19/192985.png</td>\n",
       "      <td>Belgium</td>\n",
       "      <td>https://cdn.sofifa.org/flags/7.png</td>\n",
       "      <td>91</td>\n",
       "      <td>92</td>\n",
       "      <td>Manchester City</td>\n",
       "      <td>...</td>\n",
       "      <td>88.0</td>\n",
       "      <td>68.0</td>\n",
       "      <td>58.0</td>\n",
       "      <td>51.0</td>\n",
       "      <td>15.0</td>\n",
       "      <td>13.0</td>\n",
       "      <td>5.0</td>\n",
       "      <td>10.0</td>\n",
       "      <td>13.0</td>\n",
       "      <td>€196.4M</td>\n",
       "    </tr>\n",
       "  </tbody>\n",
       "</table>\n",
       "<p>5 rows × 89 columns</p>\n",
       "</div>"
      ],
      "text/plain": [
       "   Unnamed: 0      ID               Name  Age  \\\n",
       "0           0  158023           L. Messi   31   \n",
       "1           1   20801  Cristiano Ronaldo   33   \n",
       "2           2  190871          Neymar Jr   26   \n",
       "3           3  193080             De Gea   27   \n",
       "4           4  192985       K. De Bruyne   27   \n",
       "\n",
       "                                            Photo Nationality  \\\n",
       "0  https://cdn.sofifa.org/players/4/19/158023.png   Argentina   \n",
       "1   https://cdn.sofifa.org/players/4/19/20801.png    Portugal   \n",
       "2  https://cdn.sofifa.org/players/4/19/190871.png      Brazil   \n",
       "3  https://cdn.sofifa.org/players/4/19/193080.png       Spain   \n",
       "4  https://cdn.sofifa.org/players/4/19/192985.png     Belgium   \n",
       "\n",
       "                                  Flag  Overall  Potential  \\\n",
       "0  https://cdn.sofifa.org/flags/52.png       94         94   \n",
       "1  https://cdn.sofifa.org/flags/38.png       94         94   \n",
       "2  https://cdn.sofifa.org/flags/54.png       92         93   \n",
       "3  https://cdn.sofifa.org/flags/45.png       91         93   \n",
       "4   https://cdn.sofifa.org/flags/7.png       91         92   \n",
       "\n",
       "                  Club  ... Composure Marking StandingTackle  SlidingTackle  \\\n",
       "0         FC Barcelona  ...      96.0    33.0           28.0           26.0   \n",
       "1             Juventus  ...      95.0    28.0           31.0           23.0   \n",
       "2  Paris Saint-Germain  ...      94.0    27.0           24.0           33.0   \n",
       "3    Manchester United  ...      68.0    15.0           21.0           13.0   \n",
       "4      Manchester City  ...      88.0    68.0           58.0           51.0   \n",
       "\n",
       "  GKDiving  GKHandling  GKKicking  GKPositioning GKReflexes Release Clause  \n",
       "0      6.0        11.0       15.0           14.0        8.0        €226.5M  \n",
       "1      7.0        11.0       15.0           14.0       11.0        €127.1M  \n",
       "2      9.0         9.0       15.0           15.0       11.0        €228.1M  \n",
       "3     90.0        85.0       87.0           88.0       94.0        €138.6M  \n",
       "4     15.0        13.0        5.0           10.0       13.0        €196.4M  \n",
       "\n",
       "[5 rows x 89 columns]"
      ]
     },
     "execution_count": 9,
     "metadata": {},
     "output_type": "execute_result"
    }
   ],
   "source": [
    "# removing rows with position = null\n",
    "data_df = data_df[data_df[\"Position\"].notnull()]\n",
    "data_df.head()"
   ]
  },
  {
   "cell_type": "code",
   "execution_count": 10,
   "metadata": {},
   "outputs": [
    {
     "data": {
      "text/html": [
       "<div>\n",
       "<style scoped>\n",
       "    .dataframe tbody tr th:only-of-type {\n",
       "        vertical-align: middle;\n",
       "    }\n",
       "\n",
       "    .dataframe tbody tr th {\n",
       "        vertical-align: top;\n",
       "    }\n",
       "\n",
       "    .dataframe thead th {\n",
       "        text-align: right;\n",
       "    }\n",
       "</style>\n",
       "<table border=\"1\" class=\"dataframe\">\n",
       "  <thead>\n",
       "    <tr style=\"text-align: right;\">\n",
       "      <th></th>\n",
       "      <th>Position</th>\n",
       "      <th>Finishing</th>\n",
       "      <th>HeadingAccuracy</th>\n",
       "      <th>ShortPassing</th>\n",
       "      <th>Volleys</th>\n",
       "      <th>Dribbling</th>\n",
       "      <th>Curve</th>\n",
       "      <th>FKAccuracy</th>\n",
       "      <th>LongPassing</th>\n",
       "      <th>BallControl</th>\n",
       "      <th>...</th>\n",
       "      <th>Penalties</th>\n",
       "      <th>Composure</th>\n",
       "      <th>Marking</th>\n",
       "      <th>StandingTackle</th>\n",
       "      <th>SlidingTackle</th>\n",
       "      <th>GKDiving</th>\n",
       "      <th>GKHandling</th>\n",
       "      <th>GKKicking</th>\n",
       "      <th>GKPositioning</th>\n",
       "      <th>GKReflexes</th>\n",
       "    </tr>\n",
       "  </thead>\n",
       "  <tbody>\n",
       "    <tr>\n",
       "      <th>0</th>\n",
       "      <td>RF</td>\n",
       "      <td>95.0</td>\n",
       "      <td>70.0</td>\n",
       "      <td>90.0</td>\n",
       "      <td>86.0</td>\n",
       "      <td>97.0</td>\n",
       "      <td>93.0</td>\n",
       "      <td>94.0</td>\n",
       "      <td>87.0</td>\n",
       "      <td>96.0</td>\n",
       "      <td>...</td>\n",
       "      <td>75.0</td>\n",
       "      <td>96.0</td>\n",
       "      <td>33.0</td>\n",
       "      <td>28.0</td>\n",
       "      <td>26.0</td>\n",
       "      <td>6.0</td>\n",
       "      <td>11.0</td>\n",
       "      <td>15.0</td>\n",
       "      <td>14.0</td>\n",
       "      <td>8.0</td>\n",
       "    </tr>\n",
       "    <tr>\n",
       "      <th>1</th>\n",
       "      <td>ST</td>\n",
       "      <td>94.0</td>\n",
       "      <td>89.0</td>\n",
       "      <td>81.0</td>\n",
       "      <td>87.0</td>\n",
       "      <td>88.0</td>\n",
       "      <td>81.0</td>\n",
       "      <td>76.0</td>\n",
       "      <td>77.0</td>\n",
       "      <td>94.0</td>\n",
       "      <td>...</td>\n",
       "      <td>85.0</td>\n",
       "      <td>95.0</td>\n",
       "      <td>28.0</td>\n",
       "      <td>31.0</td>\n",
       "      <td>23.0</td>\n",
       "      <td>7.0</td>\n",
       "      <td>11.0</td>\n",
       "      <td>15.0</td>\n",
       "      <td>14.0</td>\n",
       "      <td>11.0</td>\n",
       "    </tr>\n",
       "    <tr>\n",
       "      <th>2</th>\n",
       "      <td>LW</td>\n",
       "      <td>87.0</td>\n",
       "      <td>62.0</td>\n",
       "      <td>84.0</td>\n",
       "      <td>84.0</td>\n",
       "      <td>96.0</td>\n",
       "      <td>88.0</td>\n",
       "      <td>87.0</td>\n",
       "      <td>78.0</td>\n",
       "      <td>95.0</td>\n",
       "      <td>...</td>\n",
       "      <td>81.0</td>\n",
       "      <td>94.0</td>\n",
       "      <td>27.0</td>\n",
       "      <td>24.0</td>\n",
       "      <td>33.0</td>\n",
       "      <td>9.0</td>\n",
       "      <td>9.0</td>\n",
       "      <td>15.0</td>\n",
       "      <td>15.0</td>\n",
       "      <td>11.0</td>\n",
       "    </tr>\n",
       "    <tr>\n",
       "      <th>3</th>\n",
       "      <td>GK</td>\n",
       "      <td>13.0</td>\n",
       "      <td>21.0</td>\n",
       "      <td>50.0</td>\n",
       "      <td>13.0</td>\n",
       "      <td>18.0</td>\n",
       "      <td>21.0</td>\n",
       "      <td>19.0</td>\n",
       "      <td>51.0</td>\n",
       "      <td>42.0</td>\n",
       "      <td>...</td>\n",
       "      <td>40.0</td>\n",
       "      <td>68.0</td>\n",
       "      <td>15.0</td>\n",
       "      <td>21.0</td>\n",
       "      <td>13.0</td>\n",
       "      <td>90.0</td>\n",
       "      <td>85.0</td>\n",
       "      <td>87.0</td>\n",
       "      <td>88.0</td>\n",
       "      <td>94.0</td>\n",
       "    </tr>\n",
       "    <tr>\n",
       "      <th>4</th>\n",
       "      <td>RCM</td>\n",
       "      <td>82.0</td>\n",
       "      <td>55.0</td>\n",
       "      <td>92.0</td>\n",
       "      <td>82.0</td>\n",
       "      <td>86.0</td>\n",
       "      <td>85.0</td>\n",
       "      <td>83.0</td>\n",
       "      <td>91.0</td>\n",
       "      <td>91.0</td>\n",
       "      <td>...</td>\n",
       "      <td>79.0</td>\n",
       "      <td>88.0</td>\n",
       "      <td>68.0</td>\n",
       "      <td>58.0</td>\n",
       "      <td>51.0</td>\n",
       "      <td>15.0</td>\n",
       "      <td>13.0</td>\n",
       "      <td>5.0</td>\n",
       "      <td>10.0</td>\n",
       "      <td>13.0</td>\n",
       "    </tr>\n",
       "  </tbody>\n",
       "</table>\n",
       "<p>5 rows × 34 columns</p>\n",
       "</div>"
      ],
      "text/plain": [
       "  Position  Finishing  HeadingAccuracy  ShortPassing  Volleys  Dribbling  \\\n",
       "0       RF       95.0             70.0          90.0     86.0       97.0   \n",
       "1       ST       94.0             89.0          81.0     87.0       88.0   \n",
       "2       LW       87.0             62.0          84.0     84.0       96.0   \n",
       "3       GK       13.0             21.0          50.0     13.0       18.0   \n",
       "4      RCM       82.0             55.0          92.0     82.0       86.0   \n",
       "\n",
       "   Curve  FKAccuracy  LongPassing  BallControl  ...  Penalties  Composure  \\\n",
       "0   93.0        94.0         87.0         96.0  ...       75.0       96.0   \n",
       "1   81.0        76.0         77.0         94.0  ...       85.0       95.0   \n",
       "2   88.0        87.0         78.0         95.0  ...       81.0       94.0   \n",
       "3   21.0        19.0         51.0         42.0  ...       40.0       68.0   \n",
       "4   85.0        83.0         91.0         91.0  ...       79.0       88.0   \n",
       "\n",
       "   Marking  StandingTackle  SlidingTackle  GKDiving  GKHandling  GKKicking  \\\n",
       "0     33.0            28.0           26.0       6.0        11.0       15.0   \n",
       "1     28.0            31.0           23.0       7.0        11.0       15.0   \n",
       "2     27.0            24.0           33.0       9.0         9.0       15.0   \n",
       "3     15.0            21.0           13.0      90.0        85.0       87.0   \n",
       "4     68.0            58.0           51.0      15.0        13.0        5.0   \n",
       "\n",
       "   GKPositioning  GKReflexes  \n",
       "0           14.0         8.0  \n",
       "1           14.0        11.0  \n",
       "2           15.0        11.0  \n",
       "3           88.0        94.0  \n",
       "4           10.0        13.0  \n",
       "\n",
       "[5 rows x 34 columns]"
      ]
     },
     "execution_count": 10,
     "metadata": {},
     "output_type": "execute_result"
    }
   ],
   "source": [
    "# Following columns appear to be relevant for our analysis\n",
    "rel_cols = ['Position', 'Finishing', 'HeadingAccuracy', 'ShortPassing', 'Volleys', 'Dribbling',\n",
    "            'Curve', 'FKAccuracy', 'LongPassing', 'BallControl', 'Acceleration',\n",
    "            'SprintSpeed', 'Agility', 'Reactions', 'Balance', 'ShotPower',\n",
    "            'Jumping', 'Stamina', 'Strength', 'LongShots', 'Aggression',\n",
    "            'Interceptions', 'Positioning', 'Vision', 'Penalties', 'Composure',\n",
    "            'Marking', 'StandingTackle', 'SlidingTackle', 'GKDiving', 'GKHandling',\n",
    "            'GKKicking', 'GKPositioning', 'GKReflexes']\n",
    "\n",
    "data_df = data_df[rel_cols]\n",
    "data_df.head()"
   ]
  },
  {
   "cell_type": "code",
   "execution_count": 11,
   "metadata": {},
   "outputs": [
    {
     "data": {
      "text/plain": [
       "Position           0\n",
       "Finishing          0\n",
       "HeadingAccuracy    0\n",
       "ShortPassing       0\n",
       "Volleys            0\n",
       "Dribbling          0\n",
       "Curve              0\n",
       "FKAccuracy         0\n",
       "LongPassing        0\n",
       "BallControl        0\n",
       "Acceleration       0\n",
       "SprintSpeed        0\n",
       "Agility            0\n",
       "Reactions          0\n",
       "Balance            0\n",
       "ShotPower          0\n",
       "Jumping            0\n",
       "Stamina            0\n",
       "Strength           0\n",
       "LongShots          0\n",
       "Aggression         0\n",
       "Interceptions      0\n",
       "Positioning        0\n",
       "Vision             0\n",
       "Penalties          0\n",
       "Composure          0\n",
       "Marking            0\n",
       "StandingTackle     0\n",
       "SlidingTackle      0\n",
       "GKDiving           0\n",
       "GKHandling         0\n",
       "GKKicking          0\n",
       "GKPositioning      0\n",
       "GKReflexes         0\n",
       "dtype: int64"
      ]
     },
     "execution_count": 11,
     "metadata": {},
     "output_type": "execute_result"
    }
   ],
   "source": [
    "# Are there NaNs Still?\n",
    "\n",
    "data_df.isna().sum()"
   ]
  },
  {
   "cell_type": "code",
   "execution_count": 12,
   "metadata": {},
   "outputs": [],
   "source": [
    "goalkeeper = 'GK'\n",
    "forward = ['ST', 'LW', 'RW', 'LF', 'RF', 'RS','LS', 'CF']\n",
    "midfielder = ['CM','RCM','LCM', 'CDM','RDM','LDM', 'CAM', 'LAM', 'RAM', 'RM', 'LM']\n",
    "defender = ['CB', 'RCB', 'LCB', 'LWB', 'RWB', 'LB', 'RB']"
   ]
  },
  {
   "cell_type": "code",
   "execution_count": 13,
   "metadata": {},
   "outputs": [],
   "source": [
    "#Assign labels to goalkeepers\n",
    "data_df.loc[data_df[\"Position\"] == \"GK\", \"Position\"] = 0\n",
    "\n",
    "#Defenders\n",
    "data_df.loc[data_df[\"Position\"].isin(defender), \"Position\"] = 1\n",
    "\n",
    "#Midfielders\n",
    "data_df.loc[data_df[\"Position\"].isin(midfielder), \"Position\"] = 2\n",
    "\n",
    "#Forward\n",
    "data_df.loc[data_df[\"Position\"].isin(forward), \"Position\"] = 3\n",
    "\n",
    "# Convert Column \"Position\" to numeric so that Pandas does not complain\n",
    "data_df['Position'] = pd.to_numeric(data_df['Position'], downcast=\"integer\")"
   ]
  },
  {
   "cell_type": "code",
   "execution_count": 14,
   "metadata": {},
   "outputs": [],
   "source": [
    "class_labels = {0: 'Goal Keeper', 1: 'Defender', 2: 'Mid-Fielder', 3: 'Forward'}"
   ]
  },
  {
   "cell_type": "code",
   "execution_count": 15,
   "metadata": {},
   "outputs": [],
   "source": [
    "y = data_df[\"Position\"].to_numpy()\n",
    "\n",
    "X = data_df.drop(\"Position\", axis = 1)"
   ]
  },
  {
   "cell_type": "code",
   "execution_count": 16,
   "metadata": {},
   "outputs": [
    {
     "name": "stdout",
     "output_type": "stream",
     "text": [
      "(14517, 33) (14517,) (3630, 33) (3630,)\n"
     ]
    }
   ],
   "source": [
    "#  Split the data in training and test sets to measure performance of the model.\n",
    "X_train, X_test, y_train, y_test = train_test_split(X, y, \n",
    "                                                    test_size=TEST_SIZE,\n",
    "                                                    stratify=y,\n",
    "                                                    random_state=RANDOM_STATE )\n",
    "\n",
    "print (X_train.shape, y_train.shape, X_test.shape, y_test.shape)"
   ]
  },
  {
   "cell_type": "code",
   "execution_count": 17,
   "metadata": {},
   "outputs": [],
   "source": [
    "sc = StandardScaler()\n",
    "\n",
    "X_train = sc.fit_transform(X_train)\n",
    "\n",
    "X_test = sc.transform(X_test)"
   ]
  },
  {
   "cell_type": "code",
   "execution_count": 18,
   "metadata": {},
   "outputs": [
    {
     "data": {
      "text/plain": [
       "(14517, 33)"
      ]
     },
     "execution_count": 18,
     "metadata": {},
     "output_type": "execute_result"
    }
   ],
   "source": [
    "X_train.shape"
   ]
  },
  {
   "cell_type": "markdown",
   "metadata": {},
   "source": [
    "## Prepare model\n",
    "\n",
    "Build the `tf.keras.Sequential` model by stacking layers. Choose an optimizer and loss function for training:"
   ]
  },
  {
   "cell_type": "code",
   "execution_count": 19,
   "metadata": {},
   "outputs": [
    {
     "name": "stdout",
     "output_type": "stream",
     "text": [
      "WARNING:tensorflow:From c:\\Users\\Administrator.DAI-PC2\\anaconda3\\Lib\\site-packages\\keras\\src\\backend.py:873: The name tf.get_default_graph is deprecated. Please use tf.compat.v1.get_default_graph instead.\n",
      "\n"
     ]
    }
   ],
   "source": [
    "# Calling class Sequential and pass all layers as a list\n",
    "model = tf.keras.models.Sequential([\n",
    "  tf.keras.layers.Dense(18, activation=tf.nn.silu), # alternatively activation = 'swish' \n",
    "  tf.keras.layers.Dense(4) # notice absence of softmax function\n",
    "])"
   ]
  },
  {
   "cell_type": "markdown",
   "metadata": {},
   "source": [
    "## Reference\n",
    "<p style=\"font-family: Arial; font-size:1.2em;\">\n",
    "Details of <a href = \"https://www.tensorflow.org/api_docs/python/tf/keras/Sequential\">Sequential Model</a>. Sequential provides training and predict features on this model.\n",
    "</p>"
   ]
  },
  {
   "cell_type": "markdown",
   "metadata": {},
   "source": [
    "### Functional API\n",
    "\n",
    "<p style=\"font-family: Arial; font-size:1.2em;\">You can also instantiate a Model with the <strong>\"Functional API\"</strong>, where you start from Input, you chain layer calls to specify the model's forward pass, and finally you create your model from inputs and outputs:\n",
    "\n",
    ">import tensorflow as tf\n",
    "\n",
    ">inputs = tf.keras.Input(shape=(33,))\n",
    "    \n",
    ">x = tf.keras.layers.Dense(18, activation=tf.nn.relu)(inputs)\n",
    "\n",
    ">outputs = tf.keras.layers.Dense(4, activation=tf.nn.softmax)(x)\n",
    "\n",
    ">model = tf.keras.Model(inputs=inputs, outputs=outputs)\n",
    "\n",
    "    \n",
    "<p style=\"font-family: Arial; font-size:1.2em;\">You can also extend the model class, if love to live by sword!!\n",
    "</p>"
   ]
  },
  {
   "cell_type": "code",
   "execution_count": 20,
   "metadata": {},
   "outputs": [],
   "source": [
    "inputs = tf.keras.Input(shape=(33,))\n",
    "    \n",
    "x = tf.keras.layers.Dense(18, activation=tf.nn.relu)(inputs)\n",
    "\n",
    "outputs = tf.keras.layers.Dense(4)(x)\n",
    "\n",
    "model1 = tf.keras.Model(inputs=inputs, outputs=outputs)"
   ]
  },
  {
   "cell_type": "markdown",
   "metadata": {},
   "source": [
    "<p style=\"font-family: Arial; font-size:1.2em;\">\n",
    "    For each example the model returns a vector of \"logits\" or \"log-odds\" scores, one for each class.\n",
    "</p>"
   ]
  },
  {
   "cell_type": "code",
   "execution_count": 21,
   "metadata": {},
   "outputs": [
    {
     "data": {
      "text/plain": [
       "(1, 33)"
      ]
     },
     "execution_count": 21,
     "metadata": {},
     "output_type": "execute_result"
    }
   ],
   "source": [
    "X_train[:1].shape"
   ]
  },
  {
   "cell_type": "code",
   "execution_count": 22,
   "metadata": {},
   "outputs": [
    {
     "data": {
      "text/plain": [
       "array([[ 0.84396466,  0.27358763, -0.52239617,  0.23109725,  0.29705091,\n",
       "        -0.28022877, -0.90549975, -0.76923736,  0.03641655,  0.69690341,\n",
       "         0.56150403,  0.64223997, -0.31191556,  0.42687437,  0.09102389,\n",
       "        -0.00583853, -0.0156703 , -0.26906524,  0.14948988, -0.39569289,\n",
       "        -1.58556533,  0.56596068, -0.45127189,  0.92378593, -0.5824395 ,\n",
       "        -1.31972485, -1.46321229, -1.58353669, -0.31775841, -0.55501322,\n",
       "        -0.37748688, -0.25744747, -0.31840455]])"
      ]
     },
     "execution_count": 22,
     "metadata": {},
     "output_type": "execute_result"
    }
   ],
   "source": [
    "X_train[:1]"
   ]
  },
  {
   "cell_type": "code",
   "execution_count": 23,
   "metadata": {},
   "outputs": [
    {
     "data": {
      "text/plain": [
       "array([[ 0.8822632 , -0.29901803,  0.6934688 ,  0.74832153]],\n",
       "      dtype=float32)"
      ]
     },
     "execution_count": 23,
     "metadata": {},
     "output_type": "execute_result"
    }
   ],
   "source": [
    "predictions = model(X_train[:1]).numpy()\n",
    "predictions"
   ]
  },
  {
   "cell_type": "code",
   "execution_count": 24,
   "metadata": {},
   "outputs": [
    {
     "data": {
      "text/plain": [
       "2.0250354"
      ]
     },
     "execution_count": 24,
     "metadata": {},
     "output_type": "execute_result"
    }
   ],
   "source": [
    "predictions.sum()"
   ]
  },
  {
   "cell_type": "markdown",
   "metadata": {},
   "source": [
    "The `tf.nn.softmax` function converts these logits to \"probabilities\" for each class: "
   ]
  },
  {
   "cell_type": "code",
   "execution_count": 25,
   "metadata": {},
   "outputs": [
    {
     "data": {
      "text/plain": [
       "array([[0.332283  , 0.10197277, 0.2751159 , 0.2906283 ]], dtype=float32)"
      ]
     },
     "execution_count": 25,
     "metadata": {},
     "output_type": "execute_result"
    }
   ],
   "source": [
    "tf.nn.softmax(predictions).numpy()"
   ]
  },
  {
   "cell_type": "code",
   "execution_count": 26,
   "metadata": {},
   "outputs": [
    {
     "data": {
      "text/plain": [
       "1.0"
      ]
     },
     "execution_count": 26,
     "metadata": {},
     "output_type": "execute_result"
    }
   ],
   "source": [
    "tf.nn.softmax(predictions).numpy().sum()"
   ]
  },
  {
   "cell_type": "code",
   "execution_count": 27,
   "metadata": {},
   "outputs": [
    {
     "name": "stdout",
     "output_type": "stream",
     "text": [
      "Model: \"sequential\"\n",
      "_________________________________________________________________\n",
      " Layer (type)                Output Shape              Param #   \n",
      "=================================================================\n",
      " dense (Dense)               (1, 18)                   612       \n",
      "                                                                 \n",
      " dense_1 (Dense)             (1, 4)                    76        \n",
      "                                                                 \n",
      "=================================================================\n",
      "Total params: 688 (2.69 KB)\n",
      "Trainable params: 688 (2.69 KB)\n",
      "Non-trainable params: 0 (0.00 Byte)\n",
      "_________________________________________________________________\n"
     ]
    }
   ],
   "source": [
    "'''\n",
    "Number of parameters:\n",
    "    layer 1 : 33*18 +18 = 612 \n",
    "    layer 2 : 18*4 + 4\n",
    "We are not locking any layer hence all parameter are trainable    \n",
    "'''\n",
    "\n",
    "model.summary()"
   ]
  },
  {
   "cell_type": "markdown",
   "metadata": {},
   "source": [
    "## Is Model 1 similar??"
   ]
  },
  {
   "cell_type": "code",
   "execution_count": 28,
   "metadata": {},
   "outputs": [],
   "source": [
    "pred1 = model1(X_train[:1]).numpy()"
   ]
  },
  {
   "cell_type": "code",
   "execution_count": 29,
   "metadata": {},
   "outputs": [
    {
     "name": "stdout",
     "output_type": "stream",
     "text": [
      "Model: \"model\"\n",
      "_________________________________________________________________\n",
      " Layer (type)                Output Shape              Param #   \n",
      "=================================================================\n",
      " input_1 (InputLayer)        [(None, 33)]              0         \n",
      "                                                                 \n",
      " dense_2 (Dense)             (None, 18)                612       \n",
      "                                                                 \n",
      " dense_3 (Dense)             (None, 4)                 76        \n",
      "                                                                 \n",
      "=================================================================\n",
      "Total params: 688 (2.69 KB)\n",
      "Trainable params: 688 (2.69 KB)\n",
      "Non-trainable params: 0 (0.00 Byte)\n",
      "_________________________________________________________________\n"
     ]
    }
   ],
   "source": [
    "model1.summary()"
   ]
  },
  {
   "cell_type": "markdown",
   "metadata": {},
   "source": [
    "## Game Changer\n",
    "\n",
    "`Softmax` function is prone to two issues: overflow and underflow.\n",
    "\n",
    "- <b>Overflow</b> occurs when very large numbers are being fed.\n",
    "- <b>Underflow</b> occurs when very small numbers (near zero) are being fed.\n",
    "\n",
    "There are work arounds too, but, TF has its own approach.<br>\n",
    "    \n",
    "Intuition being that every system (32 / 64 bit precision) has limits in terms of largest or smallest value it can accurately process.\n",
    "\n",
    "It also leads to the vanishing gradient in exponential functions. As you go higher/lower the  value will overflow and the gradient will be `zero` irrespective of actually it being a `non-zero`.\n",
    "\n",
    "\n",
    "Our loss function is crossentropy as there are two or more label classes. The labels are provided using one-hot representation. We will use CategoricalCrossentropy loss. \n",
    "    \n",
    ">y_true = [ [0      1    0], [ 0    1   0 ]<br>\n",
    ">y_pred = [ [0.05, 0.95, 0], [0.1, 0.1, 0.8] ]\n",
    "\n",
    "\n",
    "In case, you have not one-hot-encoded use `losses.SparseCategoricalCrossentropy`. It takes a vector of logits and a `True` index and returns a scalar loss for each example."
   ]
  },
  {
   "cell_type": "code",
   "execution_count": 30,
   "metadata": {},
   "outputs": [
    {
     "data": {
      "text/plain": [
       "1.7976931348623157e+308"
      ]
     },
     "execution_count": 30,
     "metadata": {},
     "output_type": "execute_result"
    }
   ],
   "source": [
    "sys.float_info.max"
   ]
  },
  {
   "cell_type": "code",
   "execution_count": 31,
   "metadata": {},
   "outputs": [
    {
     "data": {
      "text/plain": [
       "2.2250738585072014e-308"
      ]
     },
     "execution_count": 31,
     "metadata": {},
     "output_type": "execute_result"
    }
   ],
   "source": [
    "sys.float_info.min"
   ]
  },
  {
   "cell_type": "code",
   "execution_count": 32,
   "metadata": {},
   "outputs": [
    {
     "data": {
      "text/plain": [
       "709.782712893384"
      ]
     },
     "execution_count": 32,
     "metadata": {},
     "output_type": "execute_result"
    }
   ],
   "source": [
    "np.log(sys.float_info.max)"
   ]
  },
  {
   "cell_type": "code",
   "execution_count": 33,
   "metadata": {},
   "outputs": [
    {
     "name": "stderr",
     "output_type": "stream",
     "text": [
      "C:\\Users\\Administrator.DAI-PC2\\AppData\\Local\\Temp\\ipykernel_14064\\574927170.py:1: RuntimeWarning: overflow encountered in exp\n",
      "  np.exp(710)\n"
     ]
    },
    {
     "data": {
      "text/plain": [
       "inf"
      ]
     },
     "execution_count": 33,
     "metadata": {},
     "output_type": "execute_result"
    }
   ],
   "source": [
    "np.exp(710)"
   ]
  },
  {
   "cell_type": "code",
   "execution_count": 34,
   "metadata": {},
   "outputs": [],
   "source": [
    "loss_fn = tf.keras.losses.SparseCategoricalCrossentropy ( from_logits = True)"
   ]
  },
  {
   "cell_type": "code",
   "execution_count": 35,
   "metadata": {},
   "outputs": [
    {
     "data": {
      "text/plain": [
       "array([3], dtype=int8)"
      ]
     },
     "execution_count": 35,
     "metadata": {},
     "output_type": "execute_result"
    }
   ],
   "source": [
    "y_train[:1]"
   ]
  },
  {
   "cell_type": "code",
   "execution_count": 36,
   "metadata": {},
   "outputs": [
    {
     "data": {
      "text/plain": [
       "1.23571"
      ]
     },
     "execution_count": 36,
     "metadata": {},
     "output_type": "execute_result"
    }
   ],
   "source": [
    "loss_fn(y_train[:1], predictions).numpy()"
   ]
  },
  {
   "cell_type": "markdown",
   "metadata": {},
   "source": [
    "Using `model.compile`, specify the training configuration such as:\n",
    "- Loss function to minimize\n",
    "- Optimizer\n",
    "- List of metrics to monitor"
   ]
  },
  {
   "cell_type": "code",
   "execution_count": 37,
   "metadata": {},
   "outputs": [
    {
     "name": "stdout",
     "output_type": "stream",
     "text": [
      "WARNING:tensorflow:From c:\\Users\\Administrator.DAI-PC2\\anaconda3\\Lib\\site-packages\\keras\\src\\optimizers\\__init__.py:309: The name tf.train.Optimizer is deprecated. Please use tf.compat.v1.train.Optimizer instead.\n",
      "\n"
     ]
    }
   ],
   "source": [
    "model.compile(optimizer='adam',\n",
    "              loss=loss_fn,\n",
    "              metrics=['accuracy'])"
   ]
  },
  {
   "cell_type": "markdown",
   "metadata": {},
   "source": [
    "Call `fit()`, which will train the model by slicing the data into `batches` of size `batch_size`, and repeatedly iterating over the entire dataset for a given number of `epochs`. Pass some validation for monitoring validation loss and metrics at the end of each epoch."
   ]
  },
  {
   "cell_type": "code",
   "execution_count": 38,
   "metadata": {
    "scrolled": true
   },
   "outputs": [
    {
     "name": "stdout",
     "output_type": "stream",
     "text": [
      "Epoch 1/101\n",
      "WARNING:tensorflow:From c:\\Users\\Administrator.DAI-PC2\\anaconda3\\Lib\\site-packages\\keras\\src\\utils\\tf_utils.py:492: The name tf.ragged.RaggedTensorValue is deprecated. Please use tf.compat.v1.ragged.RaggedTensorValue instead.\n",
      "\n",
      "WARNING:tensorflow:From c:\\Users\\Administrator.DAI-PC2\\anaconda3\\Lib\\site-packages\\keras\\src\\engine\\base_layer_utils.py:384: The name tf.executing_eagerly_outside_functions is deprecated. Please use tf.compat.v1.executing_eagerly_outside_functions instead.\n",
      "\n",
      "454/454 [==============================] - 3s 4ms/step - loss: 0.5720 - accuracy: 0.7701 - val_loss: 0.3717 - val_accuracy: 0.8339\n",
      "Epoch 2/101\n",
      "454/454 [==============================] - 1s 3ms/step - loss: 0.3390 - accuracy: 0.8620 - val_loss: 0.3301 - val_accuracy: 0.8570\n",
      "Epoch 3/101\n",
      "454/454 [==============================] - 1s 3ms/step - loss: 0.3145 - accuracy: 0.8718 - val_loss: 0.3172 - val_accuracy: 0.8623\n",
      "Epoch 4/101\n",
      "454/454 [==============================] - 1s 3ms/step - loss: 0.3048 - accuracy: 0.8757 - val_loss: 0.3091 - val_accuracy: 0.8667\n",
      "Epoch 5/101\n",
      "454/454 [==============================] - 1s 3ms/step - loss: 0.2994 - accuracy: 0.8781 - val_loss: 0.3093 - val_accuracy: 0.8617\n",
      "Epoch 6/101\n",
      "454/454 [==============================] - 1s 3ms/step - loss: 0.2959 - accuracy: 0.8791 - val_loss: 0.3030 - val_accuracy: 0.8713\n",
      "Epoch 7/101\n",
      "454/454 [==============================] - 1s 3ms/step - loss: 0.2936 - accuracy: 0.8792 - val_loss: 0.3024 - val_accuracy: 0.8702\n",
      "Epoch 8/101\n",
      "454/454 [==============================] - 1s 3ms/step - loss: 0.2909 - accuracy: 0.8801 - val_loss: 0.2998 - val_accuracy: 0.8758\n",
      "Epoch 9/101\n",
      "454/454 [==============================] - 1s 3ms/step - loss: 0.2898 - accuracy: 0.8810 - val_loss: 0.2999 - val_accuracy: 0.8667\n",
      "Epoch 10/101\n",
      "454/454 [==============================] - 1s 3ms/step - loss: 0.2885 - accuracy: 0.8814 - val_loss: 0.2980 - val_accuracy: 0.8736\n",
      "Epoch 11/101\n",
      "454/454 [==============================] - 1s 3ms/step - loss: 0.2869 - accuracy: 0.8825 - val_loss: 0.2977 - val_accuracy: 0.8672\n",
      "Epoch 12/101\n",
      "454/454 [==============================] - 1s 3ms/step - loss: 0.2856 - accuracy: 0.8828 - val_loss: 0.2961 - val_accuracy: 0.8763\n",
      "Epoch 13/101\n",
      "454/454 [==============================] - 1s 3ms/step - loss: 0.2848 - accuracy: 0.8824 - val_loss: 0.2955 - val_accuracy: 0.8744\n",
      "Epoch 14/101\n",
      "454/454 [==============================] - 1s 3ms/step - loss: 0.2839 - accuracy: 0.8841 - val_loss: 0.2951 - val_accuracy: 0.8744\n",
      "Epoch 15/101\n",
      "454/454 [==============================] - 1s 3ms/step - loss: 0.2830 - accuracy: 0.8837 - val_loss: 0.2957 - val_accuracy: 0.8747\n",
      "Epoch 16/101\n",
      "454/454 [==============================] - 1s 3ms/step - loss: 0.2818 - accuracy: 0.8845 - val_loss: 0.2954 - val_accuracy: 0.8758\n",
      "Epoch 17/101\n",
      "454/454 [==============================] - 1s 3ms/step - loss: 0.2811 - accuracy: 0.8840 - val_loss: 0.2960 - val_accuracy: 0.8700\n",
      "Epoch 18/101\n",
      "454/454 [==============================] - 1s 3ms/step - loss: 0.2806 - accuracy: 0.8849 - val_loss: 0.2943 - val_accuracy: 0.8727\n",
      "Epoch 19/101\n",
      "454/454 [==============================] - 1s 3ms/step - loss: 0.2797 - accuracy: 0.8833 - val_loss: 0.2943 - val_accuracy: 0.8755\n",
      "Epoch 20/101\n",
      "454/454 [==============================] - 1s 3ms/step - loss: 0.2795 - accuracy: 0.8853 - val_loss: 0.2944 - val_accuracy: 0.8736\n",
      "Epoch 21/101\n",
      "454/454 [==============================] - 1s 3ms/step - loss: 0.2789 - accuracy: 0.8853 - val_loss: 0.2945 - val_accuracy: 0.8736\n",
      "Epoch 22/101\n",
      "454/454 [==============================] - 1s 3ms/step - loss: 0.2780 - accuracy: 0.8851 - val_loss: 0.2966 - val_accuracy: 0.8749\n",
      "Epoch 23/101\n",
      "454/454 [==============================] - 1s 3ms/step - loss: 0.2777 - accuracy: 0.8868 - val_loss: 0.2949 - val_accuracy: 0.8713\n",
      "Epoch 24/101\n",
      "454/454 [==============================] - 1s 3ms/step - loss: 0.2774 - accuracy: 0.8858 - val_loss: 0.2935 - val_accuracy: 0.8747\n",
      "Epoch 25/101\n",
      "454/454 [==============================] - 1s 3ms/step - loss: 0.2765 - accuracy: 0.8864 - val_loss: 0.2966 - val_accuracy: 0.8747\n",
      "Epoch 26/101\n",
      "454/454 [==============================] - 1s 3ms/step - loss: 0.2760 - accuracy: 0.8866 - val_loss: 0.2947 - val_accuracy: 0.8725\n",
      "Epoch 27/101\n",
      "454/454 [==============================] - 1s 3ms/step - loss: 0.2759 - accuracy: 0.8854 - val_loss: 0.2956 - val_accuracy: 0.8736\n",
      "Epoch 28/101\n",
      "454/454 [==============================] - 1s 3ms/step - loss: 0.2748 - accuracy: 0.8871 - val_loss: 0.2950 - val_accuracy: 0.8733\n",
      "Epoch 29/101\n",
      "454/454 [==============================] - 1s 3ms/step - loss: 0.2749 - accuracy: 0.8881 - val_loss: 0.2987 - val_accuracy: 0.8738\n",
      "Epoch 30/101\n",
      "454/454 [==============================] - 1s 3ms/step - loss: 0.2745 - accuracy: 0.8868 - val_loss: 0.2942 - val_accuracy: 0.8749\n",
      "Epoch 31/101\n",
      "454/454 [==============================] - 1s 3ms/step - loss: 0.2743 - accuracy: 0.8873 - val_loss: 0.2946 - val_accuracy: 0.8744\n",
      "Epoch 32/101\n",
      "454/454 [==============================] - 1s 3ms/step - loss: 0.2731 - accuracy: 0.8879 - val_loss: 0.2958 - val_accuracy: 0.8736\n",
      "Epoch 33/101\n",
      "454/454 [==============================] - 1s 3ms/step - loss: 0.2730 - accuracy: 0.8868 - val_loss: 0.2977 - val_accuracy: 0.8741\n",
      "Epoch 34/101\n",
      "454/454 [==============================] - 1s 3ms/step - loss: 0.2727 - accuracy: 0.8885 - val_loss: 0.2961 - val_accuracy: 0.8741\n",
      "Epoch 35/101\n",
      "454/454 [==============================] - 1s 3ms/step - loss: 0.2725 - accuracy: 0.8883 - val_loss: 0.2981 - val_accuracy: 0.8727\n",
      "Epoch 36/101\n",
      "454/454 [==============================] - 1s 3ms/step - loss: 0.2723 - accuracy: 0.8877 - val_loss: 0.2963 - val_accuracy: 0.8713\n",
      "Epoch 37/101\n",
      "454/454 [==============================] - 1s 3ms/step - loss: 0.2716 - accuracy: 0.8861 - val_loss: 0.2974 - val_accuracy: 0.8722\n",
      "Epoch 38/101\n",
      "454/454 [==============================] - 1s 3ms/step - loss: 0.2712 - accuracy: 0.8875 - val_loss: 0.3000 - val_accuracy: 0.8719\n",
      "Epoch 39/101\n",
      "454/454 [==============================] - 1s 3ms/step - loss: 0.2707 - accuracy: 0.8889 - val_loss: 0.2973 - val_accuracy: 0.8711\n",
      "Epoch 40/101\n",
      "454/454 [==============================] - 1s 3ms/step - loss: 0.2706 - accuracy: 0.8889 - val_loss: 0.2987 - val_accuracy: 0.8730\n",
      "Epoch 41/101\n",
      "454/454 [==============================] - 1s 3ms/step - loss: 0.2710 - accuracy: 0.8883 - val_loss: 0.2971 - val_accuracy: 0.8705\n",
      "Epoch 42/101\n",
      "454/454 [==============================] - 1s 3ms/step - loss: 0.2691 - accuracy: 0.8897 - val_loss: 0.2984 - val_accuracy: 0.8749\n",
      "Epoch 43/101\n",
      "454/454 [==============================] - 1s 3ms/step - loss: 0.2696 - accuracy: 0.8888 - val_loss: 0.2994 - val_accuracy: 0.8738\n",
      "Epoch 44/101\n",
      "454/454 [==============================] - 1s 3ms/step - loss: 0.2696 - accuracy: 0.8890 - val_loss: 0.2991 - val_accuracy: 0.8702\n",
      "Epoch 45/101\n",
      "454/454 [==============================] - 1s 3ms/step - loss: 0.2696 - accuracy: 0.8897 - val_loss: 0.2998 - val_accuracy: 0.8730\n",
      "Epoch 46/101\n",
      "454/454 [==============================] - 1s 3ms/step - loss: 0.2690 - accuracy: 0.8879 - val_loss: 0.2999 - val_accuracy: 0.8733\n",
      "Epoch 47/101\n",
      "454/454 [==============================] - 1s 3ms/step - loss: 0.2683 - accuracy: 0.8895 - val_loss: 0.2974 - val_accuracy: 0.8716\n",
      "Epoch 48/101\n",
      "454/454 [==============================] - 1s 3ms/step - loss: 0.2682 - accuracy: 0.8892 - val_loss: 0.2994 - val_accuracy: 0.8730\n",
      "Epoch 49/101\n",
      "454/454 [==============================] - 1s 3ms/step - loss: 0.2684 - accuracy: 0.8913 - val_loss: 0.2985 - val_accuracy: 0.8705\n",
      "Epoch 50/101\n",
      "454/454 [==============================] - 1s 3ms/step - loss: 0.2676 - accuracy: 0.8904 - val_loss: 0.2984 - val_accuracy: 0.8727\n",
      "Epoch 51/101\n",
      "454/454 [==============================] - 1s 3ms/step - loss: 0.2677 - accuracy: 0.8894 - val_loss: 0.2989 - val_accuracy: 0.8716\n",
      "Epoch 52/101\n",
      "454/454 [==============================] - 1s 3ms/step - loss: 0.2678 - accuracy: 0.8888 - val_loss: 0.3016 - val_accuracy: 0.8725\n",
      "Epoch 53/101\n",
      "454/454 [==============================] - 1s 3ms/step - loss: 0.2669 - accuracy: 0.8884 - val_loss: 0.3002 - val_accuracy: 0.8725\n",
      "Epoch 54/101\n",
      "454/454 [==============================] - 1s 3ms/step - loss: 0.2672 - accuracy: 0.8888 - val_loss: 0.2998 - val_accuracy: 0.8730\n",
      "Epoch 55/101\n",
      "454/454 [==============================] - 1s 3ms/step - loss: 0.2666 - accuracy: 0.8891 - val_loss: 0.2995 - val_accuracy: 0.8722\n",
      "Epoch 56/101\n",
      "454/454 [==============================] - 1s 3ms/step - loss: 0.2666 - accuracy: 0.8895 - val_loss: 0.2996 - val_accuracy: 0.8736\n",
      "Epoch 57/101\n",
      "454/454 [==============================] - 1s 3ms/step - loss: 0.2662 - accuracy: 0.8904 - val_loss: 0.3030 - val_accuracy: 0.8725\n",
      "Epoch 58/101\n",
      "454/454 [==============================] - 1s 3ms/step - loss: 0.2660 - accuracy: 0.8892 - val_loss: 0.3010 - val_accuracy: 0.8727\n",
      "Epoch 59/101\n",
      "454/454 [==============================] - 1s 3ms/step - loss: 0.2656 - accuracy: 0.8899 - val_loss: 0.3026 - val_accuracy: 0.8708\n",
      "Epoch 60/101\n",
      "454/454 [==============================] - 1s 3ms/step - loss: 0.2653 - accuracy: 0.8904 - val_loss: 0.3032 - val_accuracy: 0.8730\n",
      "Epoch 61/101\n",
      "454/454 [==============================] - 1s 3ms/step - loss: 0.2650 - accuracy: 0.8912 - val_loss: 0.3024 - val_accuracy: 0.8708\n",
      "Epoch 62/101\n",
      "454/454 [==============================] - 1s 3ms/step - loss: 0.2651 - accuracy: 0.8901 - val_loss: 0.3008 - val_accuracy: 0.8719\n",
      "Epoch 63/101\n",
      "454/454 [==============================] - 1s 3ms/step - loss: 0.2650 - accuracy: 0.8900 - val_loss: 0.3020 - val_accuracy: 0.8708\n",
      "Epoch 64/101\n",
      "454/454 [==============================] - 1s 3ms/step - loss: 0.2646 - accuracy: 0.8898 - val_loss: 0.3009 - val_accuracy: 0.8713\n",
      "Epoch 65/101\n",
      "454/454 [==============================] - 1s 3ms/step - loss: 0.2643 - accuracy: 0.8901 - val_loss: 0.3014 - val_accuracy: 0.8722\n",
      "Epoch 66/101\n",
      "454/454 [==============================] - 1s 3ms/step - loss: 0.2641 - accuracy: 0.8894 - val_loss: 0.3014 - val_accuracy: 0.8727\n",
      "Epoch 67/101\n",
      "454/454 [==============================] - 1s 3ms/step - loss: 0.2641 - accuracy: 0.8912 - val_loss: 0.3025 - val_accuracy: 0.8736\n",
      "Epoch 68/101\n",
      "454/454 [==============================] - 1s 3ms/step - loss: 0.2637 - accuracy: 0.8907 - val_loss: 0.3015 - val_accuracy: 0.8725\n",
      "Epoch 69/101\n",
      "454/454 [==============================] - 1s 3ms/step - loss: 0.2638 - accuracy: 0.8917 - val_loss: 0.3035 - val_accuracy: 0.8697\n",
      "Epoch 70/101\n",
      "454/454 [==============================] - 1s 3ms/step - loss: 0.2631 - accuracy: 0.8911 - val_loss: 0.3016 - val_accuracy: 0.8716\n",
      "Epoch 71/101\n",
      "454/454 [==============================] - 1s 3ms/step - loss: 0.2630 - accuracy: 0.8915 - val_loss: 0.3028 - val_accuracy: 0.8708\n",
      "Epoch 72/101\n",
      "454/454 [==============================] - 1s 3ms/step - loss: 0.2630 - accuracy: 0.8912 - val_loss: 0.3019 - val_accuracy: 0.8722\n",
      "Epoch 73/101\n",
      "454/454 [==============================] - 1s 3ms/step - loss: 0.2629 - accuracy: 0.8916 - val_loss: 0.3027 - val_accuracy: 0.8689\n",
      "Epoch 74/101\n",
      "454/454 [==============================] - 1s 3ms/step - loss: 0.2626 - accuracy: 0.8915 - val_loss: 0.3028 - val_accuracy: 0.8727\n",
      "Epoch 75/101\n",
      "454/454 [==============================] - 1s 3ms/step - loss: 0.2625 - accuracy: 0.8916 - val_loss: 0.3033 - val_accuracy: 0.8730\n",
      "Epoch 76/101\n",
      "454/454 [==============================] - 1s 3ms/step - loss: 0.2624 - accuracy: 0.8919 - val_loss: 0.3020 - val_accuracy: 0.8727\n",
      "Epoch 77/101\n",
      "454/454 [==============================] - 1s 3ms/step - loss: 0.2619 - accuracy: 0.8927 - val_loss: 0.3025 - val_accuracy: 0.8733\n",
      "Epoch 78/101\n",
      "454/454 [==============================] - 1s 3ms/step - loss: 0.2619 - accuracy: 0.8919 - val_loss: 0.3037 - val_accuracy: 0.8711\n",
      "Epoch 79/101\n",
      "454/454 [==============================] - 1s 3ms/step - loss: 0.2617 - accuracy: 0.8926 - val_loss: 0.3062 - val_accuracy: 0.8702\n",
      "Epoch 80/101\n",
      "454/454 [==============================] - 1s 3ms/step - loss: 0.2615 - accuracy: 0.8927 - val_loss: 0.3028 - val_accuracy: 0.8730\n",
      "Epoch 81/101\n",
      "454/454 [==============================] - 1s 3ms/step - loss: 0.2616 - accuracy: 0.8919 - val_loss: 0.3052 - val_accuracy: 0.8733\n",
      "Epoch 82/101\n",
      "454/454 [==============================] - 1s 3ms/step - loss: 0.2610 - accuracy: 0.8916 - val_loss: 0.3048 - val_accuracy: 0.8725\n",
      "Epoch 83/101\n",
      "454/454 [==============================] - 1s 3ms/step - loss: 0.2610 - accuracy: 0.8907 - val_loss: 0.3049 - val_accuracy: 0.8736\n",
      "Epoch 84/101\n",
      "454/454 [==============================] - 1s 3ms/step - loss: 0.2606 - accuracy: 0.8925 - val_loss: 0.3059 - val_accuracy: 0.8725\n",
      "Epoch 85/101\n",
      "454/454 [==============================] - 1s 3ms/step - loss: 0.2613 - accuracy: 0.8908 - val_loss: 0.3049 - val_accuracy: 0.8716\n",
      "Epoch 86/101\n",
      "454/454 [==============================] - 1s 3ms/step - loss: 0.2606 - accuracy: 0.8914 - val_loss: 0.3061 - val_accuracy: 0.8705\n",
      "Epoch 87/101\n",
      "454/454 [==============================] - 1s 3ms/step - loss: 0.2601 - accuracy: 0.8924 - val_loss: 0.3043 - val_accuracy: 0.8727\n",
      "Epoch 88/101\n",
      "454/454 [==============================] - 1s 3ms/step - loss: 0.2600 - accuracy: 0.8936 - val_loss: 0.3031 - val_accuracy: 0.8736\n",
      "Epoch 89/101\n",
      "454/454 [==============================] - 1s 3ms/step - loss: 0.2602 - accuracy: 0.8923 - val_loss: 0.3039 - val_accuracy: 0.8730\n",
      "Epoch 90/101\n",
      "454/454 [==============================] - 1s 3ms/step - loss: 0.2602 - accuracy: 0.8931 - val_loss: 0.3051 - val_accuracy: 0.8744\n",
      "Epoch 91/101\n",
      "454/454 [==============================] - 2s 3ms/step - loss: 0.2600 - accuracy: 0.8931 - val_loss: 0.3052 - val_accuracy: 0.8722\n",
      "Epoch 92/101\n",
      "454/454 [==============================] - 1s 3ms/step - loss: 0.2597 - accuracy: 0.8924 - val_loss: 0.3058 - val_accuracy: 0.8700\n",
      "Epoch 93/101\n",
      "454/454 [==============================] - 1s 3ms/step - loss: 0.2593 - accuracy: 0.8918 - val_loss: 0.3046 - val_accuracy: 0.8716\n",
      "Epoch 94/101\n",
      "454/454 [==============================] - 1s 3ms/step - loss: 0.2594 - accuracy: 0.8929 - val_loss: 0.3044 - val_accuracy: 0.8727\n",
      "Epoch 95/101\n",
      "454/454 [==============================] - 1s 3ms/step - loss: 0.2592 - accuracy: 0.8930 - val_loss: 0.3038 - val_accuracy: 0.8736\n",
      "Epoch 96/101\n",
      "454/454 [==============================] - 1s 3ms/step - loss: 0.2594 - accuracy: 0.8942 - val_loss: 0.3032 - val_accuracy: 0.8722\n",
      "Epoch 97/101\n",
      "454/454 [==============================] - 1s 3ms/step - loss: 0.2589 - accuracy: 0.8935 - val_loss: 0.3054 - val_accuracy: 0.8747\n",
      "Epoch 98/101\n",
      "454/454 [==============================] - 1s 3ms/step - loss: 0.2584 - accuracy: 0.8926 - val_loss: 0.3074 - val_accuracy: 0.8722\n",
      "Epoch 99/101\n",
      "454/454 [==============================] - 1s 3ms/step - loss: 0.2582 - accuracy: 0.8932 - val_loss: 0.3046 - val_accuracy: 0.8733\n",
      "Epoch 100/101\n",
      "454/454 [==============================] - 1s 3ms/step - loss: 0.2588 - accuracy: 0.8938 - val_loss: 0.3076 - val_accuracy: 0.8708\n",
      "Epoch 101/101\n",
      "454/454 [==============================] - 1s 3ms/step - loss: 0.2582 - accuracy: 0.8934 - val_loss: 0.3048 - val_accuracy: 0.8719\n"
     ]
    }
   ],
   "source": [
    "history = model.fit(X_train, y_train, \n",
    "                    validation_data=[X_test, y_test],\n",
    "                    batch_size=BATCH_SIZE,\n",
    "                    epochs=EPOCHS)"
   ]
  },
  {
   "cell_type": "markdown",
   "metadata": {},
   "source": [
    "In case we want to separately evaluate this model, we have `evaluate` function."
   ]
  },
  {
   "cell_type": "code",
   "execution_count": 39,
   "metadata": {},
   "outputs": [
    {
     "name": "stdout",
     "output_type": "stream",
     "text": [
      "114/114 - 0s - loss: 0.3048 - accuracy: 0.8719 - 262ms/epoch - 2ms/step\n"
     ]
    },
    {
     "data": {
      "text/plain": [
       "[0.3048337399959564, 0.8719007968902588]"
      ]
     },
     "execution_count": 39,
     "metadata": {},
     "output_type": "execute_result"
    }
   ],
   "source": [
    "model.evaluate ( X_test,  y_test, verbose=2)"
   ]
  },
  {
   "cell_type": "code",
   "execution_count": 40,
   "metadata": {},
   "outputs": [
    {
     "data": {
      "text/html": [
       "<div>\n",
       "<style scoped>\n",
       "    .dataframe tbody tr th:only-of-type {\n",
       "        vertical-align: middle;\n",
       "    }\n",
       "\n",
       "    .dataframe tbody tr th {\n",
       "        vertical-align: top;\n",
       "    }\n",
       "\n",
       "    .dataframe thead th {\n",
       "        text-align: right;\n",
       "    }\n",
       "</style>\n",
       "<table border=\"1\" class=\"dataframe\">\n",
       "  <thead>\n",
       "    <tr style=\"text-align: right;\">\n",
       "      <th></th>\n",
       "      <th>loss</th>\n",
       "      <th>accuracy</th>\n",
       "      <th>val_loss</th>\n",
       "      <th>val_accuracy</th>\n",
       "    </tr>\n",
       "  </thead>\n",
       "  <tbody>\n",
       "    <tr>\n",
       "      <th>0</th>\n",
       "      <td>0.572036</td>\n",
       "      <td>0.770063</td>\n",
       "      <td>0.371662</td>\n",
       "      <td>0.833884</td>\n",
       "    </tr>\n",
       "    <tr>\n",
       "      <th>1</th>\n",
       "      <td>0.338962</td>\n",
       "      <td>0.862024</td>\n",
       "      <td>0.330055</td>\n",
       "      <td>0.857025</td>\n",
       "    </tr>\n",
       "    <tr>\n",
       "      <th>2</th>\n",
       "      <td>0.314500</td>\n",
       "      <td>0.871805</td>\n",
       "      <td>0.317162</td>\n",
       "      <td>0.862259</td>\n",
       "    </tr>\n",
       "    <tr>\n",
       "      <th>3</th>\n",
       "      <td>0.304815</td>\n",
       "      <td>0.875663</td>\n",
       "      <td>0.309073</td>\n",
       "      <td>0.866667</td>\n",
       "    </tr>\n",
       "    <tr>\n",
       "      <th>4</th>\n",
       "      <td>0.299384</td>\n",
       "      <td>0.878074</td>\n",
       "      <td>0.309259</td>\n",
       "      <td>0.861708</td>\n",
       "    </tr>\n",
       "  </tbody>\n",
       "</table>\n",
       "</div>"
      ],
      "text/plain": [
       "       loss  accuracy  val_loss  val_accuracy\n",
       "0  0.572036  0.770063  0.371662      0.833884\n",
       "1  0.338962  0.862024  0.330055      0.857025\n",
       "2  0.314500  0.871805  0.317162      0.862259\n",
       "3  0.304815  0.875663  0.309073      0.866667\n",
       "4  0.299384  0.878074  0.309259      0.861708"
      ]
     },
     "execution_count": 40,
     "metadata": {},
     "output_type": "execute_result"
    }
   ],
   "source": [
    "loss_df = pd.DataFrame(history.history)\n",
    "loss_df.head()"
   ]
  },
  {
   "cell_type": "code",
   "execution_count": 41,
   "metadata": {},
   "outputs": [
    {
     "data": {
      "image/png": "[encoded data removed]",
      "text/plain": [
       "<Figure size 1500x600 with 2 Axes>"
      ]
     },
     "metadata": {},
     "output_type": "display_data"
    }
   ],
   "source": [
    "fn_plot_tf_hist(loss_df)"
   ]
  },
  {
   "cell_type": "code",
   "execution_count": 42,
   "metadata": {},
   "outputs": [
    {
     "data": {
      "text/html": [
       "<div>\n",
       "<style scoped>\n",
       "    .dataframe tbody tr th:only-of-type {\n",
       "        vertical-align: middle;\n",
       "    }\n",
       "\n",
       "    .dataframe tbody tr th {\n",
       "        vertical-align: top;\n",
       "    }\n",
       "\n",
       "    .dataframe thead th {\n",
       "        text-align: right;\n",
       "    }\n",
       "</style>\n",
       "<table border=\"1\" class=\"dataframe\">\n",
       "  <thead>\n",
       "    <tr style=\"text-align: right;\">\n",
       "      <th></th>\n",
       "      <th>loss</th>\n",
       "      <th>accuracy</th>\n",
       "      <th>val_loss</th>\n",
       "      <th>val_accuracy</th>\n",
       "    </tr>\n",
       "  </thead>\n",
       "  <tbody>\n",
       "    <tr>\n",
       "      <th>23</th>\n",
       "      <td>0.277352</td>\n",
       "      <td>0.885789</td>\n",
       "      <td>0.293484</td>\n",
       "      <td>0.874656</td>\n",
       "    </tr>\n",
       "  </tbody>\n",
       "</table>\n",
       "</div>"
      ],
      "text/plain": [
       "        loss  accuracy  val_loss  val_accuracy\n",
       "23  0.277352  0.885789  0.293484      0.874656"
      ]
     },
     "execution_count": 42,
     "metadata": {},
     "output_type": "execute_result"
    }
   ],
   "source": [
    "loss_df[loss_df['val_loss'] == loss_df['val_loss'].min()]"
   ]
  },
  {
   "cell_type": "markdown",
   "metadata": {},
   "source": [
    "## Predictions"
   ]
  },
  {
   "cell_type": "code",
   "execution_count": 43,
   "metadata": {},
   "outputs": [],
   "source": [
    "probability_model = tf.keras.Sequential([\n",
    "  model,\n",
    "  tf.keras.layers.Softmax()\n",
    "])"
   ]
  },
  {
   "cell_type": "code",
   "execution_count": 44,
   "metadata": {},
   "outputs": [
    {
     "data": {
      "text/plain": [
       "array([[5.4898333e-16, 1.9948198e-08, 4.4589292e-02, 9.5541066e-01],\n",
       "       [1.2834868e-17, 6.7638268e-09, 6.9214416e-01, 3.0785584e-01],\n",
       "       [1.8642151e-17, 4.1711138e-07, 7.8427768e-01, 2.1572192e-01],\n",
       "       ...,\n",
       "       [1.0000000e+00, 2.6696943e-23, 4.2343977e-15, 7.6283516e-15],\n",
       "       [1.0000000e+00, 1.4414355e-21, 5.1634868e-13, 2.9724633e-13],\n",
       "       [1.0000000e+00, 1.9816394e-25, 1.0688083e-14, 1.2047134e-14]],\n",
       "      dtype=float32)"
      ]
     },
     "execution_count": 44,
     "metadata": {},
     "output_type": "execute_result"
    }
   ],
   "source": [
    "y_pred = probability_model(X_train).numpy()\n",
    "y_pred"
   ]
  },
  {
   "cell_type": "code",
   "execution_count": 45,
   "metadata": {},
   "outputs": [
    {
     "name": "stdout",
     "output_type": "stream",
     "text": [
      "              precision    recall  f1-score   support\n",
      "\n",
      "           0       1.00      1.00      1.00      1620\n",
      "           1       0.93      0.94      0.93      4693\n",
      "           2       0.85      0.88      0.86      5470\n",
      "           3       0.86      0.79      0.83      2734\n",
      "\n",
      "    accuracy                           0.89     14517\n",
      "   macro avg       0.91      0.90      0.91     14517\n",
      "weighted avg       0.89      0.89      0.89     14517\n",
      "\n"
     ]
    }
   ],
   "source": [
    "print(classification_report( y_train, y_pred.argmax( axis = 1)))"
   ]
  },
  {
   "cell_type": "code",
   "execution_count": 46,
   "metadata": {},
   "outputs": [
    {
     "name": "stdout",
     "output_type": "stream",
     "text": [
      "Accuracy score on Test Data :0.87190\n"
     ]
    }
   ],
   "source": [
    "y_pred = probability_model(X_test).numpy()\n",
    "\n",
    "print('Accuracy score on Test Data :{:.5f}'.format(accuracy_score(y_test, \n",
    "                                                                  np.argmax(y_pred, axis = 1))))"
   ]
  },
  {
   "cell_type": "code",
   "execution_count": 47,
   "metadata": {},
   "outputs": [
    {
     "name": "stdout",
     "output_type": "stream",
     "text": [
      "              precision    recall  f1-score   support\n",
      "\n",
      "           0       1.00      1.00      1.00       405\n",
      "           1       0.92      0.93      0.92      1173\n",
      "           2       0.82      0.85      0.84      1368\n",
      "           3       0.82      0.74      0.78       684\n",
      "\n",
      "    accuracy                           0.87      3630\n",
      "   macro avg       0.89      0.88      0.88      3630\n",
      "weighted avg       0.87      0.87      0.87      3630\n",
      "\n"
     ]
    }
   ],
   "source": [
    "print(classification_report(y_test, \n",
    "                            np.argmax(y_pred, axis = 1)))"
   ]
  },
  {
   "cell_type": "code",
   "execution_count": 48,
   "metadata": {},
   "outputs": [
    {
     "data": {
      "image/png": "[encoded data removed]",
      "text/plain": [
       "<Figure size 600x600 with 1 Axes>"
      ]
     },
     "metadata": {},
     "output_type": "display_data"
    }
   ],
   "source": [
    "fn_plot_confusion_matrix( y_test, y_pred.argmax( axis = 1), labels=class_labels)"
   ]
  },
  {
   "cell_type": "code",
   "execution_count": null,
   "metadata": {},
   "outputs": [],
   "source": []
  }
 ],
 "metadata": {
  "kernelspec": {
   "display_name": "Python 3 (ipykernel)",
   "language": "python",
   "name": "python3"
  },
  "language_info": {
   "codemirror_mode": {
    "name": "ipython",
    "version": 3
   },
   "file_extension": ".py",
   "mimetype": "text/x-python",
   "name": "python",
   "nbconvert_exporter": "python",
   "pygments_lexer": "ipython3",
   "version": "3.11.7"
  }
 },
 "nbformat": 4,
 "nbformat_minor": 4
}
